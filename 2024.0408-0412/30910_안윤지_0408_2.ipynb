{
 "cells": [
  {
   "cell_type": "markdown",
   "id": "b8dbdbc4",
   "metadata": {},
   "source": [
    "## 30910_안윤지_0408_2"
   ]
  },
  {
   "cell_type": "markdown",
   "id": "2782d2bf",
   "metadata": {},
   "source": [
    "본 문제는 python 의 빠른 기초 학습을 위해 설계된 문제로서 python 코드 제출을 기준으로 설명되어 있습니다. \n",
    "------\n",
    "\n",
    "임의의 정수가 줄을 바꿔 계속 입력된다.\n",
    "-2147483648 ~ +2147483647, 단 개수는 알 수 없다.\n",
    "\n",
    "0이 아니면 입력된 정수를 출력하고, 0이 입력되면 출력을 중단해보자.\n",
    "\n",
    "예시\n",
    "...\n",
    "n = 1      #처음 조건 검사를 통과하기 위해 0 아닌 값을 임의로 저장\n",
    "while n!=0 :\n",
    "  n = int(input())\n",
    "  if n!=0 :\n",
    "    print(n)\n",
    "...\n",
    "\n",
    "참고\n",
    "if 조건식 :\n",
    "  ...\n",
    "  ...\n",
    "\n",
    "\n",
    "구조를 사용하면,\n",
    "주어진 조건식의 평가 결과가 True 인 경우에만, 들여쓰기로 구분된 코드블록이 실행된다.\n",
    "\n",
    "if 를 while 로 바꾸면?\n",
    "\n",
    "while 조건식 :\n",
    "  ...\n",
    "  ...\n",
    "\n",
    "와 같은 방법으로 반복해서 실행시킬 수 있다.\n",
    "\n",
    "실행되는 과정은\n",
    "1. 조건식을 평가한다.\n",
    "2. True 인 경우 코드블록을 실행한다.\n",
    "3. 다시 조건식을 평가한다.\n",
    "4. True 인 경우 코드블록을 실행한다.\n",
    "...\n",
    "... 조건식의 평가 값이 False 인 경우 반복을 중단하고, 그 다음 명령을 실행한다.\n",
    "\n",
    "조건식의 평가 결과가 True 동안만 반복 실행된다. \n",
    "\n",
    "반복실행구조 안에 다른 조건/선택실행구조를 넣을 수도 있고...\n",
    "조건/선택실행구조 안에 다른 반복실행구조를 넣을 수도 있다.\n"
   ]
  },
  {
   "cell_type": "code",
   "execution_count": null,
   "id": "6a23567e",
   "metadata": {
    "scrolled": true
   },
   "outputs": [
    {
     "name": "stdout",
     "output_type": "stream",
     "text": [
      "7\n",
      "4\n",
      "4\n",
      "3\n",
      "3\n",
      "3\n",
      "3\n"
     ]
    }
   ],
   "source": [
    "n = int(input())\n",
    "while n != 0:\n",
    "    n = int(input())\n",
    "    if n != 0:\n",
    "        print(n)"
   ]
  },
  {
   "cell_type": "markdown",
   "id": "d6712084",
   "metadata": {},
   "source": [
    "본 문제는 python 의 빠른 기초 학습을 위해 설계된 문제로서 python 코드 제출을 기준으로 설명되어 있습니다. \n",
    "------\n",
    "\n",
    "정수(1 ~ 100) 1개가 입력되었을 때 카운트다운을 출력해보자.\n",
    "\n",
    "while 조건식 :\n",
    "  ...\n",
    "  ...\n",
    "반복 실행구조를 사용해 보자.\n",
    "\n",
    "예시\n",
    "...\n",
    "while n!=0 :\n",
    "  print(n)\n",
    "  n = n-1\n",
    "...\n",
    "\n",
    "참고\n",
    "n = n-1  #n에 저장되어있던 값에서 1만큼 뺀 후, 그 값을 다시 n에 저장시킨다.\n",
    "n -= 1 과 같이 짧게 작성할 수도 있다. n -= 1 은 n = n-1 과 같은 의미이다.\n",
    "이렇게 산술연산자(+, -, *, / ... )와 대입 연산자(=)를 함께 쓰는 것을 복합대입연산자라고도 부른다.\n",
    "같은 방법으로 +=, *=, /=, //=, %=, &=, |=, ^=, >>=, <<=, **= 등과 같이 짧게 작성할 수 있다.\n",
    "\n",
    "처음에 조건식을 검사하고, 그 다음에 실행하고, 그 다음에 값을 바꾸고...\n",
    "다시 조건식을 검사하고, 실행하고, 값을 바꾸고..."
   ]
  },
  {
   "cell_type": "code",
   "execution_count": 1,
   "id": "bec3e53c",
   "metadata": {},
   "outputs": [
    {
     "name": "stdout",
     "output_type": "stream",
     "text": [
      "5\n",
      "5\n",
      "4\n",
      "3\n",
      "2\n",
      "1\n"
     ]
    }
   ],
   "source": [
    "n = int(input())\n",
    "while n != 0:\n",
    "    print(n)\n",
    "    n = n-1"
   ]
  },
  {
   "cell_type": "markdown",
   "id": "6995eb38",
   "metadata": {},
   "source": [
    "본 문제는 python 의 빠른 기초 학습을 위해 설계된 문제로서 python 코드 제출을 기준으로 설명되어 있습니다. \n",
    "------\n",
    "\n",
    "정수(1 ~ 100) 1개가 입력되었을 때 카운트다운을 출력해보자.\n",
    "\n",
    "while 조건식 :\n",
    "  ...\n",
    "  ...\n",
    "\n",
    "반복 실행구조를 사용해 보자.\n",
    "\n",
    "참고\n",
    "조건검사, 출력, 감소의 순서와 타이밍을 잘 생각해보자.\n"
   ]
  },
  {
   "cell_type": "code",
   "execution_count": 8,
   "id": "f75ec678",
   "metadata": {},
   "outputs": [
    {
     "name": "stdout",
     "output_type": "stream",
     "text": [
      "5\n",
      "4\n",
      "3\n",
      "2\n",
      "1\n",
      "0\n"
     ]
    }
   ],
   "source": [
    "n = int(input())\n",
    "while n != 0:\n",
    "    print(n-1)\n",
    "    n = n-1"
   ]
  },
  {
   "cell_type": "markdown",
   "id": "02b08327",
   "metadata": {},
   "source": [
    "본 문제는 python 의 빠른 기초 학습을 위해 설계된 문제로서 python 코드 제출을 기준으로 설명되어 있습니다. \n",
    "------\n",
    "\n",
    "영문 소문자(a ~ z) 1개가 입력되었을 때,\n",
    "a부터 그 문자까지의 알파벳을 순서대로 출력해보자.\n",
    "\n",
    "예시\n",
    "c = ord(input())\n",
    "t = ord('a')\n",
    "while t<=c :\n",
    "  print(chr(t), end=' ')\n",
    "  t += 1\n",
    "\n",
    "참고\n",
    "알파벳 문자 a의 정수값은 ord('a')로 알아낼 수 있다.\n",
    "chr(정수값)을 이용하면 유니코드 문자로 출력할 수 있다.\n",
    "print(..., end=' ') 와 같이 작성하면 값 출력 후 공백문자 ' '를 출력한다. 즉, 마지막에 줄을 바꾸지 않고 빈칸만 띄운다.\n",
    "(end='\\n'로 작성하거나 생략하면, 값을 출력한 후 마지막(end)에 줄바꿈(newline)이 된다.)\n"
   ]
  },
  {
   "cell_type": "code",
   "execution_count": 10,
   "id": "63e61fb4",
   "metadata": {},
   "outputs": [
    {
     "name": "stdout",
     "output_type": "stream",
     "text": [
      "f\n",
      "a b c d e f "
     ]
    }
   ],
   "source": [
    "c = ord(input())\n",
    "t = ord('a')\n",
    "while t <= c:\n",
    "    print(chr(t),end=' ')\n",
    "    t += 1"
   ]
  },
  {
   "cell_type": "markdown",
   "id": "9f0ab2c2",
   "metadata": {},
   "source": [
    "본 문제는 python 의 빠른 기초 학습을 위해 설계된 문제로서 python 코드 제출을 기준으로 설명되어 있습니다. \n",
    "------\n",
    "\n",
    "정수(0 ~ 100) 1개를 입력받아 0부터 그 수까지 순서대로 출력해보자.\n"
   ]
  },
  {
   "cell_type": "code",
   "execution_count": null,
   "id": "8803ca59",
   "metadata": {},
   "outputs": [],
   "source": [
    "n = int(input())\n",
    "while n != 0:\n",
    "    print(n+1)\n",
    "    n = n"
   ]
  },
  {
   "cell_type": "markdown",
   "id": "78cac42b",
   "metadata": {},
   "source": [
    "본 문제는 python 의 빠른 기초 학습을 위해 설계된 문제로서 python 코드 제출을 기준으로 설명되어 있습니다. \n",
    "------\n",
    "\n",
    "정수(0 ~ 100) 1개를 입력받아 0부터 그 수까지 순서대로 출력해보자.\n",
    "\n",
    "예시\n",
    "n = int(input())\n",
    "for i in range(n+1) :\n",
    "  print(i)\n",
    "\n",
    "참고\n",
    "range(n) 은 0, 1, 2, ... , n-2, n-1 까지의 수열을 의미한다.\n",
    "예를 들어 range(3) 은 0, 1, 2 인 수열을 의미한다.\n",
    "\n",
    "for i in range(n) :    #range(n)에 들어있는(in) 각각의 수에 대해서(for) 순서대로 i에 저장해 가면서...\n",
    "이때의 for는 각각의 값에 대하여... 라는 for each 의 의미를 가진다고 생각할 수 있다.\n",
    "\n",
    "range(끝)\n",
    "range(시작, 끝)\n",
    "range(시작, 끝, 증감)\n",
    "형태로 수열을 표현할 수 있다. 시작 수는 포함이고, 끝 수는 포함되지 않는다. [시작, 끝)\n",
    "증감할 수를 작성하지 않으면 +1이 된다.\n",
    "\n",
    "반복 실행구조에 반복 횟수를 기록/저장하는 변수로 i를 자주 사용하는데,\n",
    "i 는 반복자(iterator)를 나타내는 i라고 생각할 수 있다. i, j, k ... 알파벳 순으로 사용하기도 한다.\n"
   ]
  },
  {
   "cell_type": "code",
   "execution_count": 25,
   "id": "b0eb57e1",
   "metadata": {},
   "outputs": [
    {
     "name": "stdout",
     "output_type": "stream",
     "text": [
      "4\n",
      "0\n",
      "1\n",
      "2\n",
      "3\n",
      "4\n"
     ]
    }
   ],
   "source": [
    "n = int(input())\n",
    "for i in range(n+1):\n",
    "    print(i)"
   ]
  },
  {
   "cell_type": "markdown",
   "id": "67f8a5f1",
   "metadata": {},
   "source": [
    "본 문제는 python 의 빠른 기초 학습을 위해 설계된 문제로서 python 코드 제출을 기준으로 설명되어 있습니다. \n",
    "------\n",
    "\n",
    "정수(1 ~ 100) 1개를 입력받아 1부터 그 수까지 짝수의 합을 구해보자.\n",
    "\n",
    "예시\n",
    "#다음 코드는 홀 수만 더해 출력한다.\n",
    "n = int(input())\n",
    "s = 0\n",
    "for i in range(1, n+1) :\n",
    "  if i%2==1 :\n",
    "    s += i\n",
    "\n",
    "print(s)\n",
    "\n",
    "참고\n",
    "while 이나 for 반복실행구조를 이용할 수 있다.\n",
    "다른 방법이나 while 반복실행구조를 이용해서도 성공시켜 보자."
   ]
  },
  {
   "cell_type": "code",
   "execution_count": 33,
   "id": "f3f418b9",
   "metadata": {},
   "outputs": [
    {
     "name": "stdout",
     "output_type": "stream",
     "text": [
      "5\n",
      "6\n"
     ]
    }
   ],
   "source": [
    "n = int(input())\n",
    "s = 0\n",
    "for i in range(1,n+1):\n",
    "    if i % 2 == 0:\n",
    "        s += i\n",
    "print(s)"
   ]
  },
  {
   "cell_type": "markdown",
   "id": "159b124b",
   "metadata": {},
   "source": [
    "본 문제는 python 의 빠른 기초 학습을 위해 설계된 문제로서 python 코드 제출을 기준으로 설명되어 있습니다. \n",
    "------\n",
    "\n",
    "영문 소문자 'q'가 입력될 때까지\n",
    "입력한 문자를 계속 출력하는 프로그램을 작성해보자.\n"
   ]
  },
  {
   "cell_type": "code",
   "execution_count": 43,
   "id": "e8d4e028",
   "metadata": {},
   "outputs": [
    {
     "name": "stdout",
     "output_type": "stream",
     "text": [
      "r\n",
      "r\n",
      "d\n",
      "d\n",
      "q\n",
      "q\n"
     ]
    }
   ],
   "source": [
    "n = 0\n",
    "while True:\n",
    "    if n != 'q':\n",
    "        n = input()\n",
    "        print(n)\n",
    "    else:\n",
    "        break"
   ]
  }
 ],
 "metadata": {
  "kernelspec": {
   "display_name": "Python 3 (ipykernel)",
   "language": "python",
   "name": "python3"
  },
  "language_info": {
   "codemirror_mode": {
    "name": "ipython",
    "version": 3
   },
   "file_extension": ".py",
   "mimetype": "text/x-python",
   "name": "python",
   "nbconvert_exporter": "python",
   "pygments_lexer": "ipython3",
   "version": "3.9.7"
  }
 },
 "nbformat": 4,
 "nbformat_minor": 5
}
