{
 "cells": [
  {
   "cell_type": "markdown",
   "id": "b83628a4",
   "metadata": {},
   "source": [
    "## 30910_안윤지_0409_4"
   ]
  },
  {
   "cell_type": "markdown",
   "id": "7cb405e6",
   "metadata": {},
   "source": [
    "## 조건문으로 간단한 프로그램 만들기"
   ]
  },
  {
   "cell_type": "code",
   "execution_count": 5,
   "id": "9eb4a0c8",
   "metadata": {},
   "outputs": [
    {
     "name": "stdout",
     "output_type": "stream",
     "text": [
      "나이를 입력하세요19\n",
      "미성년자는 6000원 입니다\n"
     ]
    }
   ],
   "source": [
    "# 목용탕 가면 미성년자는 6000원 성인 15000원 \n",
    "# 나이를 입력받아서 구분하는 프로그램을 만들어 보자\n",
    "\n",
    "age = int(input('나이를 입력하세요'))\n",
    "if age >= 20:\n",
    "    print('성인은 15000원 입니다')\n",
    "else:\n",
    "    print('미성년자는 6000원 입니다')"
   ]
  },
  {
   "cell_type": "code",
   "execution_count": 9,
   "id": "74700532",
   "metadata": {},
   "outputs": [
    {
     "name": "stdout",
     "output_type": "stream",
     "text": [
      "나이를 입력하세요23\n",
      "성인은 15000원 입니다\n",
      "금액을 투입해 주세요 --> 15000\n",
      "감사합니다. 즐거운 시간 되세요~~~\n"
     ]
    }
   ],
   "source": [
    "# 나이 구분\n",
    "# 금액 구분\n",
    "\n",
    "age = int(input('나이를 입력하세요'))\n",
    "\n",
    "if  age >= 20:\n",
    "    print('성인은 15000원 입니다')\n",
    "    price = 15000\n",
    "else:\n",
    "    print('미성년자는 6000원 입니다')\n",
    "    price = 6000\n",
    "    \n",
    "# 2단계 투입금액을 입력받아 입장료와 비교하기\n",
    "price_input = int(input('금액을 투입해 주세요 --> '))\n",
    "\n",
    "if price_input < price:\n",
    "    print(f'{price-price_input}원 더 내셔야 합니다')\n",
    "elif price_input == price:\n",
    "    print(f'감사합니다. 즐거운 시간 되세요~~~')\n",
    "else:\n",
    "    print(f'{price-price_input}원 거슬러 드리겠습니다')"
   ]
  },
  {
   "cell_type": "markdown",
   "id": "0a1f0686",
   "metadata": {},
   "source": [
    "```\n",
    "어떤 매뉴가 궁금하신가요? 라면\n",
    "기본라면 : 3500원\n",
    "떤라면 : 4000원\n",
    "만두라면 :4000원\n",
    "\n",
    "김밥\n",
    "야채김밥 3000원\n",
    "참치김밥 4000원\n",
    "꼬마김밥 2000원\n",
    "```"
   ]
  },
  {
   "cell_type": "code",
   "execution_count": null,
   "id": "24201cfc",
   "metadata": {},
   "outputs": [],
   "source": [
    "t = input('어떤 메뉴가 궁금하신가요?')\n",
    "if t == '김밥':\n",
    "    print('야채김밥: 3000원')\n",
    "    print('참치김밥: 4000원')\n",
    "    print('꼬마김밥: 4000원')\n",
    "elif t == '라면':\n",
    "    print('기본 라면: 3500원')\n",
    "else:\n",
    "    print('올바른 메뉴를 입력해주세요')"
   ]
  }
 ],
 "metadata": {
  "kernelspec": {
   "display_name": "Python 3 (ipykernel)",
   "language": "python",
   "name": "python3"
  },
  "language_info": {
   "codemirror_mode": {
    "name": "ipython",
    "version": 3
   },
   "file_extension": ".py",
   "mimetype": "text/x-python",
   "name": "python",
   "nbconvert_exporter": "python",
   "pygments_lexer": "ipython3",
   "version": "3.9.7"
  }
 },
 "nbformat": 4,
 "nbformat_minor": 5
}
