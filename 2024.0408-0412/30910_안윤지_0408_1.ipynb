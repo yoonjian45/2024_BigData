{
 "cells": [
  {
   "cell_type": "markdown",
   "id": "b5948f03",
   "metadata": {},
   "source": [
    "# 30910_안윤지_0408_1"
   ]
  },
  {
   "cell_type": "markdown",
   "id": "867bb727",
   "metadata": {},
   "source": [
    "## 선택구조 조건이 하나 일때\n",
    "- if문"
   ]
  },
  {
   "cell_type": "code",
   "execution_count": 4,
   "id": "c6b5ef32",
   "metadata": {},
   "outputs": [
    {
     "name": "stdout",
     "output_type": "stream",
     "text": [
      "청소년은 주류를 구매할 수 없습니다.\n"
     ]
    }
   ],
   "source": [
    "age = 19\n",
    "\n",
    "# 청소년은 주류를 구매할 수 없습니다. 출력\n",
    "\n",
    "if age < 20:\n",
    "    print(f'청소년은 주류를 구매할 수 없습니다.')"
   ]
  },
  {
   "cell_type": "code",
   "execution_count": 6,
   "id": "7766d324",
   "metadata": {},
   "outputs": [
    {
     "name": "stdout",
     "output_type": "stream",
     "text": [
      "나이가 어떻게 되세요?30\n",
      "성인이시네요 주류를 구매할 수 없습니다.\n"
     ]
    }
   ],
   "source": [
    "age = int(input('나이가 어떻게 되세요?'))\n",
    "\n",
    "if age < 20:\n",
    "    print(f'청소년은 주류를 구매할 수 없습니다.')\n",
    "else : \n",
    "    print(f'성인이시네요 주류를 구매할 수 없습니다.')"
   ]
  },
  {
   "cell_type": "code",
   "execution_count": 8,
   "id": "7e2b8d11",
   "metadata": {},
   "outputs": [
    {
     "name": "stdout",
     "output_type": "stream",
     "text": [
      "나이가 어떻게 되세요?19\n",
      "청소년은 주류를 구매할 수 없습니다.\n",
      "1년 후에 구매 가능합니다.\n"
     ]
    }
   ],
   "source": [
    "age = int(input('나이가 어떻게 되세요?'))\n",
    "\n",
    "if age < 20:\n",
    "    print(f'청소년은 주류를 구매할 수 없습니다.')\n",
    "print(f'{20-age}년 후에 구매 가능합니다.')"
   ]
  },
  {
   "cell_type": "markdown",
   "id": "35c3c641",
   "metadata": {},
   "source": [
    "# 50000원 이하면 배송비 2500원이 추가 된니다."
   ]
  },
  {
   "cell_type": "code",
   "execution_count": 18,
   "id": "73aefb82",
   "metadata": {},
   "outputs": [
    {
     "name": "stdout",
     "output_type": "stream",
     "text": [
      "구매 금액은? : 50001\n",
      "배송비 무료 입니다\n",
      "최종 결제 금액은 50001 입니다\n"
     ]
    }
   ],
   "source": [
    "price = int(input('구매 금액은? : '))\n",
    "\n",
    "if price < 50000:\n",
    "    print(f'배송비 2500원이 추가 됩니다.')\n",
    "    print(f'결제 금액은{price+2500}원 입니다.')\n",
    "else:\n",
    "    print(f'배송비 무료 입니다')\n",
    "    print(f'최종 결제 금액은 {price} 입니다')"
   ]
  },
  {
   "cell_type": "code",
   "execution_count": 19,
   "id": "3255b8fe",
   "metadata": {},
   "outputs": [
    {
     "name": "stdout",
     "output_type": "stream",
     "text": [
      "오늘은 몇일 입니까?0804\n",
      "짝수번호 차량만 통행 가능합니다.\n",
      "홀수번호 자주는 오늘 대중교통을 이용해 주세요.\n"
     ]
    }
   ],
   "source": [
    "# 차량 이부제\n",
    "date = int(input('오늘은 몇일 입니까?'))\n",
    "\n",
    "if date % 2 == 0:\n",
    "    print(f'짝수번호 차량만 통행 가능합니다.')\n",
    "    print(f'홀수번호 자주는 오늘 대중교통을 이용해 주세요.')\n",
    "else:\n",
    "    print(f'홀수번호 차량만 통행 가능합니다.')\n",
    "    print(f'짝수번호 차주는 오늘 대중교통을 이용해 주세요.')"
   ]
  }
 ],
 "metadata": {
  "kernelspec": {
   "display_name": "Python 3 (ipykernel)",
   "language": "python",
   "name": "python3"
  },
  "language_info": {
   "codemirror_mode": {
    "name": "ipython",
    "version": 3
   },
   "file_extension": ".py",
   "mimetype": "text/x-python",
   "name": "python",
   "nbconvert_exporter": "python",
   "pygments_lexer": "ipython3",
   "version": "3.9.7"
  }
 },
 "nbformat": 4,
 "nbformat_minor": 5
}
