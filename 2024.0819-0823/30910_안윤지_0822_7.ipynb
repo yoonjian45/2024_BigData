{
 "cells": [
  {
   "cell_type": "markdown",
   "id": "aa0147b7",
   "metadata": {},
   "source": [
    "## 30910_안윤지_0822_7"
   ]
  },
  {
   "cell_type": "code",
   "execution_count": 34,
   "id": "c2194ede",
   "metadata": {},
   "outputs": [
    {
     "name": "stdout",
     "output_type": "stream",
     "text": [
      "5 2\n",
      "5.0\n"
     ]
    }
   ],
   "source": [
    "a,b = map(int,input().split())\n",
    "\n",
    "print(f'{a*b/2 :.1f}')"
   ]
  },
  {
   "cell_type": "code",
   "execution_count": 36,
   "id": "2634681f",
   "metadata": {},
   "outputs": [
    {
     "name": "stdout",
     "output_type": "stream",
     "text": [
      "2\n",
      "48\n"
     ]
    }
   ],
   "source": [
    "day = int(input())\n",
    "\n",
    "print(day * 24)"
   ]
  },
  {
   "cell_type": "code",
   "execution_count": 55,
   "id": "b0a9781f",
   "metadata": {},
   "outputs": [
    {
     "name": "stdout",
     "output_type": "stream",
     "text": [
      "1 2 3\n",
      "2.00\n"
     ]
    }
   ],
   "source": [
    "a,b,c = map(int,input().split())\n",
    "d = a + b + c\n",
    "\n",
    "print(f'{d/3 :.2f}')"
   ]
  },
  {
   "cell_type": "code",
   "execution_count": null,
   "id": "a6d57603",
   "metadata": {},
   "outputs": [],
   "source": []
  }
 ],
 "metadata": {
  "kernelspec": {
   "display_name": "Python 3 (ipykernel)",
   "language": "python",
   "name": "python3"
  },
  "language_info": {
   "codemirror_mode": {
    "name": "ipython",
    "version": 3
   },
   "file_extension": ".py",
   "mimetype": "text/x-python",
   "name": "python",
   "nbconvert_exporter": "python",
   "pygments_lexer": "ipython3",
   "version": "3.9.7"
  }
 },
 "nbformat": 4,
 "nbformat_minor": 5
}
