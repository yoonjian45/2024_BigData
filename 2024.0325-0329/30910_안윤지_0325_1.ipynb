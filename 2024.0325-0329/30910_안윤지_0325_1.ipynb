{
 "cells": [
  {
   "cell_type": "markdown",
   "id": "0043cb31",
   "metadata": {},
   "source": [
    "## 30910_안윤지_0325_1"
   ]
  },
  {
   "cell_type": "code",
   "execution_count": 6,
   "id": "c217b850",
   "metadata": {},
   "outputs": [
    {
     "name": "stdout",
     "output_type": "stream",
     "text": [
      "1 부터 n까지 정수의 합을 구합니다.\n",
      "n의 값을 입력하세요. : 0\n",
      "n의 값을 입력하세요. : -6\n",
      "n의 값을 입력하세요. : 4\n",
      "1부터 4까지 정수의 합은 10 입니다.\n"
     ]
    }
   ],
   "source": [
    "# 1 부터 n 까지 정수의 합 구하기\n",
    "\n",
    "print('1 부터 n까지 정수의 합을 구합니다.')\n",
    "\n",
    "# n값이 0보다 크면 빠져 나간다.\n",
    "while True:\n",
    "    n = int(input('n의 값을 입력하세요. : '))\n",
    "    if n > 0:\n",
    "        break\n",
    "\n",
    "# 변수 선언 및 초기화\n",
    "sum = 0\n",
    "i = 1\n",
    "\n",
    "for i in range(1, n+1):\n",
    "    sum += i\n",
    "    i += 1\n",
    "    \n",
    "print(f'1부터 {n}까지 정수의 합은 {sum} 입니다.')"
   ]
  },
  {
   "cell_type": "markdown",
   "id": "341f5d31",
   "metadata": {},
   "source": [
    "- 변의 길이와 넓이가 모두 정수인 직사각형에서 변의 길이를 구하는 프로그램\n",
    "- 짧은 변과 긴 변의 길이는 구별하지 않음\n",
    "    - 예) 직사각형의 넓이가 32면 변의 길이를 1 x 32, 2 x 16, 4 x 8만 출력"
   ]
  },
  {
   "cell_type": "code",
   "execution_count": 13,
   "id": "3cd2bcc7",
   "metadata": {},
   "outputs": [
    {
     "name": "stdout",
     "output_type": "stream",
     "text": [
      "직사각형의 넓이를 입력하세요 : 123\n",
      "1 x 123\n",
      "3 x 41\n"
     ]
    }
   ],
   "source": [
    "# 가로, 세로 길이가 정수이고 넓이가 area인 직사각형에서 변의 길이 나열하기\n",
    "\n",
    "area = int(input('직사각형의 넓이를 입력하세요 : '))\n",
    "\n",
    "for i in range(1, area+1):\n",
    "    if i * i > area : break\n",
    "    if area % i : continue\n",
    "    print(f'{i} x {area // i}')"
   ]
  },
  {
   "cell_type": "code",
   "execution_count": null,
   "id": "d238a93f",
   "metadata": {},
   "outputs": [],
   "source": []
  }
 ],
 "metadata": {
  "kernelspec": {
   "display_name": "Python 3 (ipykernel)",
   "language": "python",
   "name": "python3"
  },
  "language_info": {
   "codemirror_mode": {
    "name": "ipython",
    "version": 3
   },
   "file_extension": ".py",
   "mimetype": "text/x-python",
   "name": "python",
   "nbconvert_exporter": "python",
   "pygments_lexer": "ipython3",
   "version": "3.9.7"
  }
 },
 "nbformat": 4,
 "nbformat_minor": 5
}
