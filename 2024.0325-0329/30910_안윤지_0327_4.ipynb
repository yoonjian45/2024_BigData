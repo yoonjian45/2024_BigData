{
  "nbformat": 4,
  "nbformat_minor": 0,
  "metadata": {
    "colab": {
      "provenance": []
    },
    "kernelspec": {
      "name": "python3",
      "display_name": "Python 3"
    },
    "language_info": {
      "name": "python"
    }
  },
  "cells": [
    {
      "cell_type": "markdown",
      "source": [
        "## 30910_안윤지_0327_4"
      ],
      "metadata": {
        "id": "YnkyLFSz6bSk"
      }
    },
    {
      "cell_type": "code",
      "execution_count": 1,
      "metadata": {
        "colab": {
          "base_uri": "https://localhost:8080/"
        },
        "id": "Y8PqjU766Mgp",
        "outputId": "b4f24e08-5245-4432-efe2-d1c2383768c4"
      },
      "outputs": [
        {
          "output_type": "stream",
          "name": "stdout",
          "text": [
            "학생 그룹 점수의 합계와 평균을 구합니다.\n",
            "1번 학생의 점수를 입력하세요. : 16\n",
            "2번 학생의 점수를 입력하세요. : 27\n",
            "3번 학생의 점수를 입력하세요. : 56\n",
            "4번 학생의 점수를 입력하세요. : 46\n",
            "5번 학생의 점수를 입력하세요. : 35\n",
            "합계는 180점 입니다.\n",
            "평균은 36.0점 입니다.\n"
          ]
        }
      ],
      "source": [
        "# 학생 5명의 시험점수를 입력받아 합계와 평균을 출력하기\n",
        "\n",
        "print('학생 그룹 점수의 합계와 평균을 구합니다.')\n",
        "a = int(input('1번 학생의 점수를 입력하세요. : '))\n",
        "b = int(input('2번 학생의 점수를 입력하세요. : '))\n",
        "c = int(input('3번 학생의 점수를 입력하세요. : '))\n",
        "d = int(input('4번 학생의 점수를 입력하세요. : '))\n",
        "e = int(input('5번 학생의 점수를 입력하세요. : '))\n",
        "\n",
        "total = 0\n",
        "total += a\n",
        "total += b\n",
        "total += c\n",
        "total += d\n",
        "total += e\n",
        "\n",
        "print(f'합계는 {total}점 입니다.')\n",
        "print(f'평균은 {total/5}점 입니다.')"
      ]
    },
    {
      "cell_type": "markdown",
      "source": [
        "- 배열 : 묶음 단위로 값을 저장하는 자료구조\n",
        "  - 원소 : 배열에 저장된 각 겍체\n",
        "  - 각 원소는 0,1,------- 순서데로 인덱스(주소)를 부여받음\n",
        "  - 원소의 자료형은 int형 float형 어떤것도 상관없음\n",
        "  - 서로 다른 자료형을 같이 저장할 수 있음\n",
        "  - 배열 원소 자체를 배열에 저정할 수 있음"
      ],
      "metadata": {
        "id": "14Bn_V_u9E8F"
      }
    },
    {
      "cell_type": "code",
      "source": [
        "# list 선언\n",
        "list01 = [] # 빈리스트\n",
        "a = [1,2,3,4,5]\n",
        "b = ['A','B','C']\n",
        "\n",
        "print(a)\n",
        "print(b)"
      ],
      "metadata": {
        "colab": {
          "base_uri": "https://localhost:8080/"
        },
        "id": "AMZN0prD-L4d",
        "outputId": "fe1f6cfa-d4b9-466d-b650-773d78452f98"
      },
      "execution_count": 3,
      "outputs": [
        {
          "output_type": "stream",
          "name": "stdout",
          "text": [
            "[1, 2, 3, 4, 5]\n",
            "['A', 'B', 'C']\n"
          ]
        }
      ]
    },
    {
      "cell_type": "markdown",
      "source": [
        "- 튜플\n",
        "  - 원소에 순서를 매겨 결합한 것으로 원소를 변결할 수 없는 자료형\n",
        "  - ()만 사용하면 빈 튜블 생성\n",
        "  "
      ],
      "metadata": {
        "id": "95Eq-SAX-rvk"
      }
    },
    {
      "cell_type": "code",
      "source": [
        "tuple01 = ()\n",
        "tuple02 = 1,2,3\n",
        "tuple03 = 'A','B','C'\n",
        "\n",
        "print(tuple01)\n",
        "print(tuple02)\n",
        "print(tuple03)"
      ],
      "metadata": {
        "colab": {
          "base_uri": "https://localhost:8080/"
        },
        "id": "9bl8dXqz_HWU",
        "outputId": "c46e446d-815d-41f7-e21e-69cf3e6b8418"
      },
      "execution_count": 5,
      "outputs": [
        {
          "output_type": "stream",
          "name": "stdout",
          "text": [
            "()\n",
            "(1, 2, 3)\n",
            "('A', 'B', 'C')\n"
          ]
        }
      ]
    },
    {
      "cell_type": "code",
      "source": [
        "a = tuple(range(3,13,2))\n",
        "print(a)"
      ],
      "metadata": {
        "colab": {
          "base_uri": "https://localhost:8080/"
        },
        "id": "vRfCIlhM_jeU",
        "outputId": "e72da4b9-a6c8-4e00-d245-4c551dfda4c0"
      },
      "execution_count": 8,
      "outputs": [
        {
          "output_type": "stream",
          "name": "stdout",
          "text": [
            "(3, 5, 7, 9, 11)\n"
          ]
        }
      ]
    },
    {
      "cell_type": "code",
      "source": [],
      "metadata": {
        "id": "8cUlypL-_vWM"
      },
      "execution_count": null,
      "outputs": []
    }
  ]
}