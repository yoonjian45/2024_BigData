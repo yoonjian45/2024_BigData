{
 "cells": [
  {
   "cell_type": "markdown",
   "id": "11632cd4",
   "metadata": {},
   "source": [
    "## 30910_안윤지_0418_6"
   ]
  },
  {
   "cell_type": "code",
   "execution_count": 8,
   "id": "67d4a40a",
   "metadata": {},
   "outputs": [
    {
     "name": "stdout",
     "output_type": "stream",
     "text": [
      "월 별로 수입액을 입력시켜 주세요!\n",
      "1 월의 수입액을 입력시켜 주세요\n",
      "4\n",
      "2 월의 수입액을 입력시켜 주세요\n",
      "4\n",
      "3 월의 수입액을 입력시켜 주세요\n",
      "4\n",
      "4 월의 수입액을 입력시켜 주세요\n",
      "4\n",
      "5 월의 수입액을 입력시켜 주세요\n",
      "4\n",
      "6 월의 수입액을 입력시켜 주세요\n",
      "4\n",
      "상반기 월별 수입액 입니다.\n",
      "상반기 월 수입액의 평균은 24 만원 입니다.\n",
      "상반기 월 수입액의 평균은 4.0 만원 입니다.\n"
     ]
    }
   ],
   "source": [
    "money = []\n",
    "print('월 별로 수입액을 입력시켜 주세요!')\n",
    "\n",
    "for j in range(0,6):\n",
    "    print((j+1),'월의 수입액을 입력시켜 주세요')\n",
    "    money.append(int(input('')))\n",
    "sum = 0\n",
    "i = 0\n",
    "print('상반기 월별 수입액 입니다.')\n",
    "while i < 6:\n",
    "    sum = money[i] + sum\n",
    "    i = i+1\n",
    "avg = sum/6\n",
    "print('상반기 월 수입액의 평균은',sum,'만원 입니다.')\n",
    "print('상반기 월 수입액의 평균은',avg,'만원 입니다.')"
   ]
  },
  {
   "cell_type": "code",
   "execution_count": 13,
   "id": "9c4dac39",
   "metadata": {},
   "outputs": [
    {
     "name": "stdout",
     "output_type": "stream",
     "text": [
      "월 별로 수입액을 입력시켜 주세요!\n",
      "1 월의 수입액을 입력시켜 주세요.\n",
      "5\n",
      "2 월의 수입액을 입력시켜 주세요.\n",
      "5\n",
      "3 월의 수입액을 입력시켜 주세요.\n",
      "5\n",
      "4 월의 수입액을 입력시켜 주세요.\n",
      "5\n",
      "5 월의 수입액을 입력시켜 주세요.\n",
      "5\n",
      "6 월의 수입액을 입력시켜 주세요.\n",
      "5\n",
      "상반기 월별 수입액 입니다.\n",
      "상반기 월 수입액의 평균은 0 만원 입니다\n",
      "상반기 월 수입액의 평균은 0.0 만원 입니다.\n"
     ]
    }
   ],
   "source": [
    "# 월별 수입을 저장할 리스트를 초기화 합니다\n",
    "money = []\n",
    "print('월 별로 수입액을 입력시켜 주세요!')\n",
    "\n",
    "for j in range(0,6):\n",
    "    print((j+1),'월의 수입액을 입력시켜 주세요.')\n",
    "    money.append(int(input('')))\n",
    "sum = 0\n",
    "i = 0\n",
    "print('상반기 월별 수입액 입니다.')\n",
    "while i < 6:\n",
    "    summ = money[i] + sum\n",
    "    i = i + 1\n",
    "avg = sum/6 # 평균을 계산합니다\n",
    "print(f'상반기 월 수입액의 평균은 {sum} 만원 입니다.')\n",
    "print(f'상반기 월 수입액의 평균은 {avg} 만원 입니다.')"
   ]
  },
  {
   "cell_type": "code",
   "execution_count": 14,
   "id": "1a2a65b4",
   "metadata": {},
   "outputs": [
    {
     "name": "stdout",
     "output_type": "stream",
     "text": [
      "리스트에서 점수가 70점 이상인 번호와 값 출력하기\n",
      "1 번 87\n",
      "5 번 89\n",
      "7 번 77\n",
      "8 번 98\n",
      "9 번 88\n",
      "10 번 84\n",
      "5 번 89\n",
      "22 번 86\n",
      "25 번 78\n"
     ]
    }
   ],
   "source": [
    "import random\n",
    "score = []\n",
    "for i in range(0,25):\n",
    "    score.append(random.randint(0,100))\n",
    "print('리스트에서 점수가 70점 이상인 번호와 값 출력하기')\n",
    "for s in score:\n",
    "    if s >= 70:\n",
    "        print(score.index(s)+1,'번',s)"
   ]
  },
  {
   "cell_type": "code",
   "execution_count": 11,
   "id": "c24b39c0",
   "metadata": {},
   "outputs": [
    {
     "name": "stdout",
     "output_type": "stream",
     "text": [
      "리스트에서 점수가 70점 이상인 번호와 값 출력하기\n",
      "9 번 98\n",
      "12 번 74\n",
      "14 번 89\n",
      "9 번 98\n",
      "20 번 72\n",
      "22 번 71\n",
      "24 번 87\n",
      "25 번 80\n"
     ]
    }
   ],
   "source": [
    "import random\n",
    "score = [] # 점수를 저장할 리스트를 초기화 합니다\n",
    "for i in range(0,25): #25명의 학생들에세 무작위로 점수를 부여합니다\n",
    "    score.append(random.randint(0,100)) # 랜덤 숫자 불러오기\n",
    "print('리스트에서 점수가 70점 이상인 번호와 값 출력하기')\n",
    "\n",
    "# 리스트에서 70점 이상인 점수를 가진 핵생들의 번호와 점수를 출력합니다\n",
    "for s in score:\n",
    "    if s >= 70:\n",
    "        print(score.index(s)+1,'번',s)"
   ]
  },
  {
   "cell_type": "code",
   "execution_count": 22,
   "id": "c87ac1bf",
   "metadata": {},
   "outputs": [
    {
     "name": "stdout",
     "output_type": "stream",
     "text": [
      "지하철 ~ ♪♬지하철 ~ ♪♬지하철 ~ ♪♬지하철 ~ ♪♬\n",
      "몇호선?팔호선\n",
      "모란 \n",
      "땡! 해당 역은 팔호선 이 아닙니다!\n",
      "벌칙 당첨!!\n"
     ]
    }
   ],
   "source": [
    "신분단성 = ['광교', '광교중앙', '상현', '성북', '수지구청', '동천', '미금', '정자', '판교', '청계산입구', '양재시민의 숲', '양재', '강남']\n",
    "팔호선 = ['모란','수진','신흥','단대오거리','남한산성입구역','산성','남위례','복정','장지','문정','가락시장','송파','석촌','잠실','몽촌토성','강동구청','천호','암사']\n",
    "\n",
    "print('지하철 ~ ♪♬' * 4)\n",
    "\n",
    "호선 = input('몇호선?')\n",
    "\n",
    "for i in range(10):\n",
    "    if 호선 == '신분당선':\n",
    "        입력 = input()\n",
    "        if 입력 not in 신분당선:\n",
    "            print('땡! 해당 역은', 호선,'이 아닙니다!')\n",
    "            print('벌칙 당첨!!')\n",
    "            break\n",
    "    elif 호선 == '팔호선':\n",
    "        입력 = input()\n",
    "        if 입력 not in 팔호선:\n",
    "            print('땡! 해당 역은', 호선,'이 아닙니다!')\n",
    "            print('벌칙 당첨!!')\n",
    "            break"
   ]
  },
  {
   "cell_type": "code",
   "execution_count": 23,
   "id": "406a2b57",
   "metadata": {},
   "outputs": [
    {
     "name": "stdout",
     "output_type": "stream",
     "text": [
      "지하철 ~ ♪♬지하철 ~ ♪♬지하철 ~ ♪♬지하철 ~ ♪♬\n",
      "몇호선?팔호선\n",
      "모란\n",
      "수진\n",
      "신흥\n",
      "단대오거리\n",
      "산성\n",
      "남위례\n",
      "복정\n",
      "잠실\n",
      "문정\n",
      "가락시장\n"
     ]
    }
   ],
   "source": [
    "신분단성 = ['광교', '광교중앙', '상현', '성북', '수지구청', '동천', '미금', '정자', '판교', '청계산입구', '양재시민의 숲', '양재', '강남']\n",
    "팔호선 = ['모란','수진','신흥','단대오거리','남한산성입구역','산성','남위례','복정','장지','문정','가락시장','송파','석촌','잠실','몽촌토성','강동구청','천호','암사']\n",
    "\n",
    "print('지하철 ~ ♪♬' * 4)\n",
    "\n",
    "# 사용자로부터 호선을 입력받습니다\n",
    "호선 = input('몇호선?')\n",
    "\n",
    "# 입력된 호선에 따라 해당 호선의 역이름을 입력받고, 입력된 역이 해당 호선에 속하는지 확인합니다\n",
    "for i in range(10):\n",
    "    if 호선 == '신분당선':\n",
    "        입력 = input()\n",
    "        if 입력 not in 신분당선:\n",
    "            print('땡! 해당 역은', 호선,'이 아닙니다!')\n",
    "            print('벌칙 당첨!!')\n",
    "            break\n",
    "    elif 호선 == '팔호선':\n",
    "        입력 = input()\n",
    "        if 입력 not in 팔호선:\n",
    "            print('땡! 해당 역은', 호선,'이 아닙니다!')\n",
    "            print('벌칙 당첨!!')\n",
    "            break"
   ]
  }
 ],
 "metadata": {
  "kernelspec": {
   "display_name": "Python 3 (ipykernel)",
   "language": "python",
   "name": "python3"
  },
  "language_info": {
   "codemirror_mode": {
    "name": "ipython",
    "version": 3
   },
   "file_extension": ".py",
   "mimetype": "text/x-python",
   "name": "python",
   "nbconvert_exporter": "python",
   "pygments_lexer": "ipython3",
   "version": "3.9.7"
  }
 },
 "nbformat": 4,
 "nbformat_minor": 5
}
