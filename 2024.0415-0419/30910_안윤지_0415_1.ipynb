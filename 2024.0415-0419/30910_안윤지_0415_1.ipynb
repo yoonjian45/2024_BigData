{
 "cells": [
  {
   "cell_type": "markdown",
   "id": "760031bd",
   "metadata": {},
   "source": [
    "## 30910_안윤지_0415_1"
   ]
  },
  {
   "cell_type": "code",
   "execution_count": 4,
   "id": "e07bd851",
   "metadata": {},
   "outputs": [
    {
     "name": "stdout",
     "output_type": "stream",
     "text": [
      "6275\n"
     ]
    }
   ],
   "source": [
    "## 반복문을 이용하여 101부터 150까지 합을 구하는 프로그램 작성\n",
    "# 결과용 변수를 만들고 초기화\n",
    "result = 0\n",
    "# 반복문 for\n",
    "for i in range(101,151):\n",
    "    result += i\n",
    "print(result)"
   ]
  },
  {
   "cell_type": "code",
   "execution_count": 10,
   "id": "53bbee5c",
   "metadata": {},
   "outputs": [
    {
     "name": "stdout",
     "output_type": "stream",
     "text": [
      "362880\n"
     ]
    }
   ],
   "source": [
    "# 1부터 50까지 곱하는 프로그램 작성\n",
    "# 결과용 변수 만들고 초기화\n",
    "result = 1\n",
    "\n",
    "for i in range(1,10):\n",
    "    result *= i\n",
    "print(result)"
   ]
  },
  {
   "cell_type": "code",
   "execution_count": 16,
   "id": "afdc267d",
   "metadata": {},
   "outputs": [
    {
     "name": "stdout",
     "output_type": "stream",
     "text": [
      "몇단을 외울까요?13\n",
      "13 X 1 = 13\n",
      "13 X 2 = 26\n",
      "13 X 3 = 39\n",
      "13 X 4 = 52\n",
      "13 X 5 = 65\n",
      "13 X 6 = 78\n",
      "13 X 7 = 91\n",
      "13 X 8 = 104\n",
      "13 X 9 = 117\n"
     ]
    }
   ],
   "source": [
    "# 구구단 출력하기\n",
    "# 입력갑 설계\n",
    "num = int(input('몇단을 외울까요?'))\n",
    "#출력갑 설계\n",
    "for i in range(1,10):\n",
    "    print(f'{num} X {i} = {num*i}')"
   ]
  },
  {
   "cell_type": "code",
   "execution_count": 20,
   "id": "2de5e543",
   "metadata": {},
   "outputs": [
    {
     "name": "stdout",
     "output_type": "stream",
     "text": [
      "0.24379256489695733\n"
     ]
    }
   ],
   "source": [
    "# random 임의 숫자\n",
    "\n",
    "# 리이브러리 libary 불러오기\n",
    "import random\n",
    "\n",
    "print(random.random())"
   ]
  },
  {
   "cell_type": "code",
   "execution_count": 44,
   "id": "bb836545",
   "metadata": {},
   "outputs": [
    {
     "name": "stdout",
     "output_type": "stream",
     "text": [
      "9\n"
     ]
    }
   ],
   "source": [
    "# 리이브러리 libary 불러오기\n",
    "import random\n",
    "# 랜덤 범위를 지정한다.\n",
    "print(random.randrange(1,10,2))"
   ]
  },
  {
   "cell_type": "code",
   "execution_count": 46,
   "id": "ac21fe26",
   "metadata": {},
   "outputs": [
    {
     "name": "stdout",
     "output_type": "stream",
     "text": [
      "9\n"
     ]
    }
   ],
   "source": [
    "# 리이브러리 libary 불러오기\n",
    "import random\n",
    "# 랜덤 범위를 지정한다. 정수를 가져오기\n",
    "print(random.randint(1,10))"
   ]
  },
  {
   "cell_type": "code",
   "execution_count": 47,
   "id": "493a167d",
   "metadata": {},
   "outputs": [
    {
     "name": "stdout",
     "output_type": "stream",
     "text": [
      "9\n",
      "10\n",
      "5\n",
      "10\n",
      "2\n",
      "5\n",
      "10\n",
      "2\n",
      "1\n",
      "9\n"
     ]
    }
   ],
   "source": [
    "import random\n",
    "\n",
    "for i in range(10):\n",
    "    print(random.randint(0,10))"
   ]
  },
  {
   "cell_type": "code",
   "execution_count": 53,
   "id": "f1ddc164",
   "metadata": {},
   "outputs": [
    {
     "name": "stdout",
     "output_type": "stream",
     "text": [
      "구구단 외자 ~~ 구구단 외자 ~~ \n",
      "3 X 9 은? 27\n",
      "9 X 8 은? 72\n",
      "7 X 8 은? 56\n",
      "4 X 3 은? 12\n",
      "4 X 3 은? 12\n",
      "8 X 5 은? 40\n",
      "4 X 7 은? 28\n",
      "4 X 8 은? 32\n",
      "8 X 9 은? 72\n",
      "5 X 6 은? 30\n"
     ]
    }
   ],
   "source": [
    "# 구구단 외기 게임1\n",
    "import random\n",
    "\n",
    "print('구구단 외자 ~~ ' *2)\n",
    "for i in range(10):\n",
    "    a = random.randint(2,9)\n",
    "    b = random.randint(1,9)\n",
    "    print(f'{a} X {b} 은? {a*b}')"
   ]
  },
  {
   "cell_type": "code",
   "execution_count": 59,
   "id": "ffe4eb11",
   "metadata": {
    "scrolled": true
   },
   "outputs": [
    {
     "name": "stdout",
     "output_type": "stream",
     "text": [
      "구구단 외자 ~~ 구구단 외자 ~~ \n",
      "2 X 4 ? \n",
      "8 X 8 ? \n",
      "2 X 4 ? \n",
      "2 X 4 ? \n",
      "3 X 3 ? \n",
      "3 X 2 ? \n",
      "2 X 5 ? \n",
      "7 X 9 ? \n",
      "6 X 5 ? \n",
      "7 X 3 ? \n"
     ]
    }
   ],
   "source": [
    "# 구구단 외기 게임2 - 정답을 입력받아 보기\n",
    "import random\n",
    "\n",
    "print('구구단 외자 ~~ ' *2)\n",
    "for i in range(10):\n",
    "    a = random.randint(2,9)\n",
    "    b = random.randint(1,9)\n",
    "    question = str(a) + ' X ' + str(b) + ' ? '\n",
    "    input(question)"
   ]
  },
  {
   "cell_type": "code",
   "execution_count": null,
   "id": "be9f9758",
   "metadata": {},
   "outputs": [
    {
     "name": "stdout",
     "output_type": "stream",
     "text": [
      "구구단 외자 ~~ 구구단 외자 ~~ \n",
      "7 X 2 은?14\n"
     ]
    }
   ],
   "source": [
    "# 구구단 외기 게임3 - 정답입력이 맞다 틀리다를 구분\n",
    "\n",
    "print('구구단 외자 ~~ ' *2)\n",
    "for i in range(10):\n",
    "    a = random.randint(2,9)\n",
    "    b = random.randint(1,9)\n",
    "    question = input(f'{a} X {b} 은?')\n",
    "    answer = int(question)\n",
    "    if answer != a*b:\n",
    "        print('틀렸습니다.')"
   ]
  }
 ],
 "metadata": {
  "kernelspec": {
   "display_name": "Python 3 (ipykernel)",
   "language": "python",
   "name": "python3"
  },
  "language_info": {
   "codemirror_mode": {
    "name": "ipython",
    "version": 3
   },
   "file_extension": ".py",
   "mimetype": "text/x-python",
   "name": "python",
   "nbconvert_exporter": "python",
   "pygments_lexer": "ipython3",
   "version": "3.9.7"
  }
 },
 "nbformat": 4,
 "nbformat_minor": 5
}
