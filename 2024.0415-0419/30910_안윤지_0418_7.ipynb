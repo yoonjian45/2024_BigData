{
 "cells": [
  {
   "cell_type": "code",
   "execution_count": 2,
   "id": "b2c05775",
   "metadata": {},
   "outputs": [
    {
     "name": "stdout",
     "output_type": "stream",
     "text": [
      "1부터 1000까지 숫자 중에서 2의 배수이거나 3의 배수면 더하는 프로그램\n",
      "334167\n"
     ]
    }
   ],
   "source": [
    "print('1부터 1000까지 숫자 중에서 2의 배수이거나 3의 배수면 더하는 프로그램')\n",
    "\n",
    "res = 0\n",
    "num = 1\n",
    "\n",
    "while num <= 1000:\n",
    "    if num % 2 == 0 or num % 3 == 0:\n",
    "        res += num\n",
    "    num += 1\n",
    "print(res)"
   ]
  },
  {
   "cell_type": "code",
   "execution_count": 3,
   "id": "aa5748bf",
   "metadata": {},
   "outputs": [
    {
     "name": "stdout",
     "output_type": "stream",
     "text": [
      "1부터 1000까지 숫자 중에서 2의 배수이거나 3의 배수면 더하는 프로그램\n",
      "334167\n"
     ]
    }
   ],
   "source": [
    "# 1부터 1000까지 숫자 중에서 2의 배수이거나 3의 배수면 더하는 프로그램 입니다.\n",
    "print('1부터 1000까지 숫자 중에서 2의 배수이거나 3의 배수면 더하는 프로그램')\n",
    "\n",
    "res = 0 # 결과를 저장할 변수를 초기화 합니다\n",
    "num = 1 # 시작 숫자를 1로 설정합니다\n",
    "\n",
    "# 1부터 1000까지의 숫자를 반복하면서 조건을 검사합니다\n",
    "while num <= 1000:\n",
    "    # 만약현재 숫자가 2의 배수이거나 3의 배수라면\n",
    "    if num % 2 == 0 or num % 3 == 0:\n",
    "        res += num # 결과 변수에 현재 숫자르 더합니다\n",
    "    num += 1\n",
    "print(res) # 결과를 출력합니다"
   ]
  },
  {
   "cell_type": "code",
   "execution_count": 2,
   "id": "41f7def9",
   "metadata": {},
   "outputs": [
    {
     "name": "stdout",
     "output_type": "stream",
     "text": [
      "구구단을 외자! 구구단을 와자!\n",
      "3x2 = ?\n",
      "6\n",
      "정답\n",
      "5x2 = ?\n",
      "10\n",
      "정답\n",
      "4x4 = ?\n",
      "16\n",
      "정답\n",
      "8x7 = ?\n",
      "56\n",
      "정답\n",
      "6x3 = ?\n",
      "18\n",
      "정답\n",
      "4x1 = ?\n",
      "4\n",
      "정답\n",
      "3x7 = ?\n",
      "21\n",
      "정답\n",
      "9x4 = ?\n",
      "36\n",
      "정답\n",
      "2x5 = ?\n",
      "10\n",
      "정답\n",
      "2x7 = ?\n",
      "14\n",
      "정답\n",
      "맞춘 횟수 : 10, 틀린 횟수 :\n"
     ]
    }
   ],
   "source": [
    "import random\n",
    "\n",
    "print('구구단을 외자! 구구단을 와자!')\n",
    "\n",
    "t_cnt = 0\n",
    "f_cnt = 0\n",
    "\n",
    "for i in range(10):\n",
    "    a = random.randint(2,9)\n",
    "    b = random.randint(1,9)\n",
    "    print('{}x{} = ?'.format(a,b))\n",
    "    answer = int(input(''))\n",
    "    if a*b == answer:\n",
    "        print('정답')\n",
    "        t_cnt = t_cnt + 1\n",
    "    else:\n",
    "        print('틀렸어요!')\n",
    "        f_cnt = f_cnt + 1\n",
    "print('맞춘 횟수 : {}, 틀린 횟수 {}:'.format(t_cnt,f_cnt))"
   ]
  },
  {
   "cell_type": "code",
   "execution_count": 7,
   "id": "8d500605",
   "metadata": {},
   "outputs": [
    {
     "name": "stdout",
     "output_type": "stream",
     "text": [
      "구구단을 외자! 구구단을 와자!\n",
      "9x7 = ?\n",
      "5\n",
      "틀렸어요!\n",
      "8x9 = ?\n",
      "4\n",
      "틀렸어요!\n",
      "9x8 = ?\n",
      "3\n",
      "틀렸어요!\n",
      "7x5 = ?\n",
      "2\n",
      "틀렸어요!\n",
      "7x5 = ?\n",
      "4\n",
      "틀렸어요!\n",
      "5x6 = ?\n",
      "5\n",
      "틀렸어요!\n",
      "7x4 = ?\n",
      "4\n",
      "틀렸어요!\n",
      "9x6 = ?\n",
      "3\n",
      "틀렸어요!\n",
      "4x2 = ?\n",
      "6\n",
      "틀렸어요!\n",
      "4x1 = ?\n",
      "4\n",
      "정답\n",
      "맞춘 횟수 : 1, 틀린 횟수 : 9\n"
     ]
    }
   ],
   "source": [
    "import random\n",
    "\n",
    "# 사용자에게 구구단을 외라는 메시지를 출력합니다\n",
    "print('구구단을 외자! 구구단을 와자!')\n",
    "\n",
    "# 맞은 횟수와 틀린 횟수를 저장할 변수를 초기화 합니다\n",
    "t_cnt = 0\n",
    "f_cnt = 0\n",
    "\n",
    "# 10번 반복하여 구구단 문제를 출력 합니다\n",
    "for i in range(10):\n",
    "    # 2에서 9까지 임의의 숫자를 선탣하여 구구단의 단을 결정합니다\n",
    "    a = random.randint(2,9)\n",
    "    # 1에서 9까지 임의의 숫자를 선탣하여 구구단의 곱을 결정합니다\n",
    "    b = random.randint(1,9)\n",
    "    # 문제를 출력합니다\n",
    "    print('{}x{} = ?'.format(a,b))\n",
    "    # 사용자로부터 답을 입력받습니다\n",
    "    answer = int(input(''))\n",
    "    # 사용자의 답과 정답을 비교하여 결과를 출력합니다\n",
    "    if a*b == answer:\n",
    "        print('정답')\n",
    "        # 맞은 횟수를 증가시킵니다\n",
    "        t_cnt = t_cnt + 1\n",
    "    else:\n",
    "        print('틀렸어요!')\n",
    "        # 틀린 횟수를 증가시킵니다\n",
    "        f_cnt = f_cnt + 1\n",
    "print('맞춘 횟수 : {}, 틀린 횟수 : {}'.format(t_cnt,f_cnt))"
   ]
  },
  {
   "cell_type": "code",
   "execution_count": 15,
   "id": "f9d33cf0",
   "metadata": {},
   "outputs": [
    {
     "name": "stdout",
     "output_type": "stream",
     "text": [
      "월 별로 수입액을 입력시켜 주세요!\n",
      "0 월의 수입액을 입력시켜 주세요\n",
      "4\n",
      "1 월의 수입액을 입력시켜 주세요\n",
      "4\n",
      "2 월의 수입액을 입력시켜 주세요\n",
      "4\n",
      "3 월의 수입액을 입력시켜 주세요\n",
      "4\n",
      "4 월의 수입액을 입력시켜 주세요\n",
      "4\n",
      "5 월의 수입액을 입력시켜 주세요\n",
      "4\n",
      "상반기 월별 수입액 입니다\n",
      "상반기 월 수입액의 평균은 20 만원입니다\n",
      "상반기 월 수입액의 평균은 3.3333333333333335 만원입니다\n"
     ]
    }
   ],
   "source": [
    "money = []\n",
    "print('월 별로 수입액을 입력시켜 주세요!')\n",
    "      \n",
    "for j in range(0,6):\n",
    "      print((j*1),'월의 수입액을 입력시켜 주세요')\n",
    "      money.append(int(input('')))\n",
    "      \n",
    "sum = 0\n",
    "i = 1\n",
    "print('상반기 월별 수입액 입니다')\n",
    "while i < 6:\n",
    "      sum = money[i] + sum\n",
    "      i = i+1\n",
    "avg = sum/6\n",
    "print(f'상반기 월 수입액의 평균은 {sum} 만원입니다')\n",
    "print(f'상반기 월 수입액의 평균은 {avg} 만원입니다')"
   ]
  },
  {
   "cell_type": "code",
   "execution_count": null,
   "id": "4173be0a",
   "metadata": {},
   "outputs": [],
   "source": [
    "money = [] # 수입을 저장할 리스틀르 초기화 합니다\n",
    "print('월 별로 수입액을 입력시켜 주세요!')\n",
    "      \n",
    "for j in range(0,6):\n",
    "      print((j*1),'월의 수입액을 입력시켜 주세요')\n",
    "      money.append(int(input('')))\n",
    "      \n",
    "sum = 0\n",
    "i = 1\n",
    "print('상반기 월별 수입액 입니다')\n",
    "while i < 6:\n",
    "      sum = money[i] + sum\n",
    "      i = i+1\n",
    "avg = sum/6 # 평균을 계산합니다\n",
    "print(f'상반기 월 수입액의 평균은 {sum} 만원입니다')\n",
    "print(f'상반기 월 수입액의 평균은 {avg} 만원입니다')"
   ]
  },
  {
   "cell_type": "code",
   "execution_count": 16,
   "id": "00fde9ad",
   "metadata": {},
   "outputs": [
    {
     "name": "stdout",
     "output_type": "stream",
     "text": [
      "리스트에서 점수가 70점 이상인 번호와 값 출력하기\n",
      "2 번 70\n",
      "4 번 85\n",
      "7 번 80\n",
      "8 번 92\n",
      "9 번 71\n",
      "12 번 81\n",
      "9 번 71\n",
      "16 번 100\n",
      "17 번 95\n",
      "16 번 100\n",
      "22 번 98\n",
      "23 번 90\n"
     ]
    }
   ],
   "source": [
    "import random\n",
    "score = []\n",
    "for i in range(0,25):\n",
    "    score.append(random.randint(0,100))\n",
    "print('리스트에서 점수가 70점 이상인 번호와 값 출력하기')\n",
    "for s in score:\n",
    "    if s >= 70:\n",
    "        print(score.index(s)+1,'번',s)"
   ]
  },
  {
   "cell_type": "code",
   "execution_count": 17,
   "id": "5cf4ba6f",
   "metadata": {},
   "outputs": [
    {
     "name": "stdout",
     "output_type": "stream",
     "text": [
      "리스트에서 점수가 70점 이상인 번호와 값 출력하기\n",
      "2 번 75\n",
      "4 번 77\n",
      "11 번 85\n",
      "12 번 91\n",
      "13 번 89\n",
      "15 번 78\n",
      "4 번 77\n",
      "18 번 97\n",
      "20 번 71\n"
     ]
    }
   ],
   "source": [
    "import random\n",
    "score = [] # 점수를 저장할 리스트를 초기화 합니다\n",
    "for i in range(0,25): # 25명의 학생들에게 무작의로 점수를 부여합니다\n",
    "    score.append(random.randint(0,100)) # 랜덤 숫자 불러오기\n",
    "print('리스트에서 점수가 70점 이상인 번호와 값 출력하기')\n",
    "\n",
    "# 리스트에서 70점 이사인 점수를 가진 학생들의 번호와 점수를 출력합니다\n",
    "for s in score:\n",
    "    if s >= 70:\n",
    "        print(score.index(s)+1,'번',s)"
   ]
  },
  {
   "cell_type": "code",
   "execution_count": 20,
   "id": "bce08c4e",
   "metadata": {},
   "outputs": [
    {
     "name": "stdout",
     "output_type": "stream",
     "text": [
      "지하철 ~ ♪♬지하철 ~ ♪♬지하철 ~ ♪♬지하철 ~ ♪♬\n",
      "몇호선? 팔호선\n",
      "모란\n",
      "수지\n",
      "땡 해당 역은 팔호선 이 아닙니다\n",
      "벌칙 당첨!!\n"
     ]
    }
   ],
   "source": [
    "신분단성 = ['광교', '광교중앙', '상현', '성북', '수지구청', '동천', '미금', '정자', '판교', '청계산입구', '양재시민의 숲', '양재', '강남']\n",
    "팔호선 = ['모란','수진','신흥','단대오거리','남한산성입구역','산성','남위례','복정','장지','문정','가락시장','송파','석촌','잠실','몽촌토성','강동구청','천호','암사']\n",
    "\n",
    "print('지하철 ~ ♪♬' * 4)\n",
    "\n",
    "호선 = input('몇호선? ')\n",
    "\n",
    "for i in range(10):\n",
    "    if 호선 == '신분당성':\n",
    "        입력 = input()\n",
    "        if 입력 not in 신분당선:\n",
    "            print('땡 해당 역은', 호선,'이 아닙니다')\n",
    "            print('벌칙 당첨!!')\n",
    "            break\n",
    "    elif 호선 == '팔호선':\n",
    "        입력 = input()\n",
    "        if 입력 not in 팔호선:\n",
    "            print('땡 해당 역은', 호선,'이 아닙니다')\n",
    "            print('벌칙 당첨!!')\n",
    "            break"
   ]
  },
  {
   "cell_type": "code",
   "execution_count": 21,
   "id": "ad34e64f",
   "metadata": {},
   "outputs": [
    {
     "name": "stdout",
     "output_type": "stream",
     "text": [
      "지하철 ~ ♪♬지하철 ~ ♪♬지하철 ~ ♪♬지하철 ~ ♪♬\n",
      "몇호선? 팔호선\n",
      "수진\n",
      "신흥\n",
      "단대\n",
      "땡 해당 역은 팔호선 이 아닙니다\n",
      "벌칙 당첨!!\n"
     ]
    }
   ],
   "source": [
    "신분단성 = ['광교', '광교중앙', '상현', '성북', '수지구청', '동천', '미금', '정자', '판교', '청계산입구', '양재시민의 숲', '양재', '강남']\n",
    "팔호선 = ['모란','수진','신흥','단대오거리','남한산성입구역','산성','남위례','복정','장지','문정','가락시장','송파','석촌','잠실','몽촌토성','강동구청','천호','암사']\n",
    "\n",
    "# 사용자로부터 호선을 입력받습니다\n",
    "print('지하철 ~ ♪♬' * 4)\n",
    "\n",
    "#입력된 호선에 따라 해당 호선의 역이름을 입력받고, 입력된 역이 해당 호선에 속하는 지 확인합니다\n",
    "호선 = input('몇호선? ')\n",
    "\n",
    "for i in range(10):\n",
    "    if 호선 == '신분당성':\n",
    "        입력 = input()\n",
    "        if 입력 not in 신분당선:\n",
    "            print('땡 해당 역은', 호선,'이 아닙니다')\n",
    "            print('벌칙 당첨!!')\n",
    "            break\n",
    "    elif 호선 == '팔호선':\n",
    "        입력 = input()\n",
    "        if 입력 not in 팔호선:\n",
    "            print('땡 해당 역은', 호선,'이 아닙니다')\n",
    "            print('벌칙 당첨!!')\n",
    "            break"
   ]
  }
 ],
 "metadata": {
  "kernelspec": {
   "display_name": "Python 3 (ipykernel)",
   "language": "python",
   "name": "python3"
  },
  "language_info": {
   "codemirror_mode": {
    "name": "ipython",
    "version": 3
   },
   "file_extension": ".py",
   "mimetype": "text/x-python",
   "name": "python",
   "nbconvert_exporter": "python",
   "pygments_lexer": "ipython3",
   "version": "3.9.7"
  }
 },
 "nbformat": 4,
 "nbformat_minor": 5
}
