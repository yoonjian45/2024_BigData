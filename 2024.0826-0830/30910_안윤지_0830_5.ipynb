{
 "cells": [
  {
   "cell_type": "markdown",
   "id": "98078c59",
   "metadata": {},
   "source": [
    "## 30910_안윤지_0830_5"
   ]
  },
  {
   "cell_type": "code",
   "execution_count": 12,
   "id": "83ae8b24",
   "metadata": {},
   "outputs": [
    {
     "name": "stdout",
     "output_type": "stream",
     "text": [
      "10\n",
      "12 A\n"
     ]
    }
   ],
   "source": [
    "a = int(input())\n",
    "print('%o'%a,'%X'%a)"
   ]
  },
  {
   "cell_type": "code",
   "execution_count": 13,
   "id": "d44f9b7b",
   "metadata": {},
   "outputs": [
    {
     "name": "stdout",
     "output_type": "stream",
     "text": [
      "a\n",
      "a\n"
     ]
    }
   ],
   "source": [
    "a = input()\n",
    "print(a)"
   ]
  },
  {
   "cell_type": "code",
   "execution_count": 14,
   "id": "9059d857",
   "metadata": {},
   "outputs": [
    {
     "name": "stdout",
     "output_type": "stream",
     "text": [
      "cat\n",
      "cat\n"
     ]
    }
   ],
   "source": [
    "a = input()\n",
    "print('%s'%a)"
   ]
  },
  {
   "cell_type": "code",
   "execution_count": 15,
   "id": "8e91b3a1",
   "metadata": {},
   "outputs": [
    {
     "name": "stdout",
     "output_type": "stream",
     "text": [
      "black sheep wall\n",
      "black sheep wall\n"
     ]
    }
   ],
   "source": [
    "a = input()\n",
    "print(a)"
   ]
  }
 ],
 "metadata": {
  "kernelspec": {
   "display_name": "Python 3 (ipykernel)",
   "language": "python",
   "name": "python3"
  },
  "language_info": {
   "codemirror_mode": {
    "name": "ipython",
    "version": 3
   },
   "file_extension": ".py",
   "mimetype": "text/x-python",
   "name": "python",
   "nbconvert_exporter": "python",
   "pygments_lexer": "ipython3",
   "version": "3.9.7"
  }
 },
 "nbformat": 4,
 "nbformat_minor": 5
}
