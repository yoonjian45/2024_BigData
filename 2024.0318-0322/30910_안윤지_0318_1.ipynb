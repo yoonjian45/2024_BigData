{
 "cells": [
  {
   "cell_type": "markdown",
   "id": "7f6022ae",
   "metadata": {},
   "source": [
    "## 30910_안윤지_0318_1"
   ]
  },
  {
   "cell_type": "code",
   "execution_count": 5,
   "id": "cac99602",
   "metadata": {},
   "outputs": [
    {
     "name": "stdout",
     "output_type": "stream",
     "text": [
      "세 정수의 최댓값을 구합니다.\n",
      "정수 a의 값을 입력하세요. : 1\n",
      "정수 b의 값을 입력하세요. : 2\n",
      "정수 c의 값을 입력하세요. : 3\n",
      "최대값은 3 입니다.\n"
     ]
    }
   ],
   "source": [
    "# 세 정수를 입력받아 최댓값을 구하기\n",
    "\n",
    "print('세 정수의 최댓값을 구합니다.')\n",
    "\n",
    "a = int(input('정수 a의 값을 입력하세요. : '))\n",
    "b = int(input('정수 b의 값을 입력하세요. : '))\n",
    "c = int(input('정수 c의 값을 입력하세요. : '))\n",
    "\n",
    "# 최대값을 구하는 알고리즘\n",
    "max = a\n",
    "if b > max : max = b\n",
    "if c > max : max = c\n",
    "    \n",
    "print(f'최대값은 {max} 입니다.')"
   ]
  },
  {
   "cell_type": "code",
   "execution_count": 8,
   "id": "321cd37b",
   "metadata": {},
   "outputs": [
    {
     "name": "stdout",
     "output_type": "stream",
     "text": [
      "정수를 입력하세요. : 0\n",
      "이 수는 0 입니다\n"
     ]
    }
   ],
   "source": [
    "n = int(input('정수를 입력하세요. : '))\n",
    "\n",
    "if n > 0 : \n",
    "    print('이 수는 양수 입니다.')\n",
    "elif n < 0 :\n",
    "    print('이 수는 음수 입니다.')\n",
    "else :\n",
    "    print('이 수는 0 입니다')"
   ]
  },
  {
   "cell_type": "code",
   "execution_count": 3,
   "id": "9b1088a5",
   "metadata": {},
   "outputs": [
    {
     "name": "stdout",
     "output_type": "stream",
     "text": [
      "1부터 n까지 정수의 합을 구합니다.\n",
      "n값을 입력하세요. : 5\n",
      "1부터 5까지 정수의 합은 15 입니다.\n"
     ]
    }
   ],
   "source": [
    "# while문 이용\n",
    "# 1 부터 n까지 정수의 합 구하기\n",
    "\n",
    "print('1부터 n까지 정수의 합을 구합니다.')\n",
    "n = int(input('n값을 입력하세요. : '))\n",
    "\n",
    "sum = 0 #초기화\n",
    "i = 1\n",
    "\n",
    "while i <= n :\n",
    "    sum += i #sum = sum + i\n",
    "    i += 1 #= i + i\n",
    "\n",
    "# 출력\n",
    "print(f'1부터 {n}까지 정수의 합은 {sum} 입니다.')"
   ]
  },
  {
   "cell_type": "code",
   "execution_count": null,
   "id": "b2038b7f",
   "metadata": {},
   "outputs": [],
   "source": []
  }
 ],
 "metadata": {
  "kernelspec": {
   "display_name": "Python 3 (ipykernel)",
   "language": "python",
   "name": "python3"
  },
  "language_info": {
   "codemirror_mode": {
    "name": "ipython",
    "version": 3
   },
   "file_extension": ".py",
   "mimetype": "text/x-python",
   "name": "python",
   "nbconvert_exporter": "python",
   "pygments_lexer": "ipython3",
   "version": "3.9.7"
  }
 },
 "nbformat": 4,
 "nbformat_minor": 5
}
