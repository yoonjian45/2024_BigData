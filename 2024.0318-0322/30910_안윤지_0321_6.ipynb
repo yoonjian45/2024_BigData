{
 "cells": [
  {
   "cell_type": "markdown",
   "id": "c96c0257",
   "metadata": {},
   "source": [
    "## 30910_안윤지_0321_6"
   ]
  },
  {
   "cell_type": "markdown",
   "id": "c3a6b58a",
   "metadata": {},
   "source": [
    "본 문제는 python 의 빠른 기초 학습을 위해 설계된 문제로서 python 코드 제출을 기준으로 설명되어 있습니다. \n",
    "------\n",
    "\n",
    "정수 2개(a, b)를 입력받아 a에서 b를 뺀 차를 출력하는 프로그램을 작성해보자.\n",
    "\n",
    "예시\n",
    "...\n",
    "c = a - b\n",
    "print(c)\n",
    "\n",
    "참고\n",
    "수 - 수는 차(subtraction)가 계산된다."
   ]
  },
  {
   "cell_type": "code",
   "execution_count": 23,
   "id": "fec22734",
   "metadata": {
    "scrolled": true
   },
   "outputs": [
    {
     "name": "stdout",
     "output_type": "stream",
     "text": [
      "123 -123\n",
      "246\n"
     ]
    }
   ],
   "source": [
    "a, b = map(int, input().split())\n",
    "c = a - b\n",
    "print(c)"
   ]
  },
  {
   "cell_type": "markdown",
   "id": "34ddcb91",
   "metadata": {},
   "source": [
    "본 문제는 python 의 빠른 기초 학습을 위해 설계된 문제로서 python 코드 제출을 기준으로 설명되어 있습니다. \n",
    "------\n",
    "\n",
    "실수 2개(f1, f2)를 입력받아 곱을 출력하는 프로그램을 작성해보자.\n",
    "\n",
    "예시\n",
    "...\n",
    "m = f1 * f2\n",
    "print(m)\n",
    "\n",
    "참고\n",
    "수 * 수는 곱(multiplication)이 계산된다."
   ]
  },
  {
   "cell_type": "code",
   "execution_count": 24,
   "id": "e6094e67",
   "metadata": {
    "scrolled": true
   },
   "outputs": [
    {
     "name": "stdout",
     "output_type": "stream",
     "text": [
      "0.5 2.0\n",
      "1.0\n"
     ]
    }
   ],
   "source": [
    "f1, f2 = map(float, input().split())\n",
    "m = f1 * f2\n",
    "print(m)"
   ]
  },
  {
   "cell_type": "markdown",
   "id": "873ff9f2",
   "metadata": {},
   "source": [
    "본 문제는 python 의 빠른 기초 학습을 위해 설계된 문제로서 python 코드 제출을 기준으로 설명되어 있습니다. \n",
    "------\n",
    "\n",
    "단어와 반복 횟수를 입력받아 여러 번 출력해보자.\n",
    "\n",
    "예시\n",
    "w, n = input().split()\n",
    "print(w*int(n))\n",
    "\n",
    "참고\n",
    "문자열 * 정수 또는 정수 * 문자열은 그 문자열을 여러 번 반복한 문자열을 만들어 준다."
   ]
  },
  {
   "cell_type": "code",
   "execution_count": 18,
   "id": "4d83f6ff",
   "metadata": {
    "scrolled": true
   },
   "outputs": [
    {
     "name": "stdout",
     "output_type": "stream",
     "text": [
      "love 3\n",
      "lovelovelove\n"
     ]
    }
   ],
   "source": [
    "w,n = input().split()\n",
    "print(w*int(n))"
   ]
  },
  {
   "cell_type": "markdown",
   "id": "5c77a8cf",
   "metadata": {},
   "source": [
    "본 문제는 python 의 빠른 기초 학습을 위해 설계된 문제로서 python 코드 제출을 기준으로 설명되어 있습니다. \n",
    "------\n",
    "\n",
    "반복 횟수와 문장을 입력받아 여러 번 출력해보자.\n",
    "\n",
    "예시\n",
    "n = input()\n",
    "s = input()\n",
    "print(int(n)*s)\n",
    "\n",
    "참고\n",
    "문자열 * 정수 또는 정수 * 문자열은 그 문자열을 여러 번 반복한 문자열을 만들어 준다."
   ]
  },
  {
   "cell_type": "code",
   "execution_count": 19,
   "id": "87a4ba6c",
   "metadata": {
    "scrolled": true
   },
   "outputs": [
    {
     "name": "stdout",
     "output_type": "stream",
     "text": [
      "3\n",
      "I love CS\n",
      "I love CSI love CSI love CS\n"
     ]
    }
   ],
   "source": [
    "n = input()\n",
    "s = input()\n",
    "print(int(n)*s)"
   ]
  },
  {
   "cell_type": "markdown",
   "id": "7c1b15dd",
   "metadata": {},
   "source": [
    "본 문제는 python 의 빠른 기초 학습을 위해 설계된 문제로서 python 코드 제출을 기준으로 설명되어 있습니다. \n",
    "------\n",
    "\n",
    "정수 2개(a, b)를 입력받아\n",
    "a를 b번 곱한 거듭제곱을 출력하는 프로그램을 작성해보자.\n",
    "\n",
    "예시\n",
    "...\n",
    "c = a**b\n",
    "print(c)\n",
    "\n",
    "참고\n",
    "python 언어에서는 거듭제곱을 계산하는 연산자(**)를 제공한다.\n",
    "일반적으로 수학 식에서 거듭제곱을 표현하는 사용하는 서컴플렉스/케릿 기호(^)는 프로그래밍언어에서 다른 의미로 쓰인다."
   ]
  },
  {
   "cell_type": "code",
   "execution_count": 22,
   "id": "62218d65",
   "metadata": {
    "scrolled": true
   },
   "outputs": [
    {
     "name": "stdout",
     "output_type": "stream",
     "text": [
      "2 10\n",
      "1024\n"
     ]
    }
   ],
   "source": [
    "a,b = map(int,input().split())\n",
    "c = a **b\n",
    "print(c)"
   ]
  },
  {
   "cell_type": "markdown",
   "id": "9062bcb0",
   "metadata": {},
   "source": [
    "본 문제는 python 의 빠른 기초 학습을 위해 설계된 문제로서 python 코드 제출을 기준으로 설명되어 있습니다. \n",
    "------\n",
    "\n",
    "실수 2개(f1, f2)를 입력받아\n",
    "f1을 f2번 거듭제곱한 값을 출력하는 프로그램을 작성해보자.\n",
    "\n",
    "참고\n",
    "python 언어에서는 거듭제곱(exponentiation)을 계산하는 연산자(**)를 제공한다.\n",
    "일반적으로 수학 식에서 거듭제곱을 표현하는 사용하는 서컴플렉스/케릿 기호(^)는 프로그래밍언어에서 다른 의미로 쓰인다."
   ]
  },
  {
   "cell_type": "code",
   "execution_count": 27,
   "id": "69ad1370",
   "metadata": {},
   "outputs": [
    {
     "name": "stdout",
     "output_type": "stream",
     "text": [
      "4.0 2.0\n",
      "16.0\n"
     ]
    }
   ],
   "source": [
    "f1,f2 = map(float, input().split())\n",
    "b = f1 ** f2\n",
    "print(b)"
   ]
  },
  {
   "cell_type": "markdown",
   "id": "ded4c65e",
   "metadata": {},
   "source": [
    "본 문제는python의 빠른 기초 학습을 위해 설계된 문제로서python코드 제출을 기준으로 설명되어 있습니다. \n",
    "------\n",
    "\n",
    "정수 2개(a, b) 를 입력받아 a를 b로 나눈 몫을 출력해보자.\n",
    "\n",
    "예시\n",
    "...\n",
    "print(a//b)\n",
    "\n",
    "참고\n",
    "python언어에서는 나눈 몫을 계산하는 연산자(//, floor division)를 제공한다.\n",
    "a//b 와 같이 작성하면, a를 b로 나눈 몫(quotient)을 계산해준다.\n",
    "프로그래밍언어에 따라 이렇게 몫을 계산해주는 연산자가 없는 경우도 있다.\n",
    "\n",
    "실수로 나눈 몫이 어떻게 계산될지도 생각해보자."
   ]
  },
  {
   "cell_type": "code",
   "execution_count": 28,
   "id": "36de6bb5",
   "metadata": {},
   "outputs": [
    {
     "name": "stdout",
     "output_type": "stream",
     "text": [
      "10 3\n",
      "3\n"
     ]
    }
   ],
   "source": [
    "a,b = map(int, input().split())\n",
    "print(a//b)"
   ]
  },
  {
   "cell_type": "markdown",
   "id": "bdf74b4f",
   "metadata": {},
   "source": [
    "본 문제는 python 의 빠른 기초 학습을 위해 설계된 문제로서 python 코드 제출을 기준으로 설명되어 있습니다. \n",
    "------\n",
    "\n",
    "정수 2개(a, b) 를 입력받아 a를 b로 나눈 나머지를 출력해보자.\n",
    "\n",
    "예시\n",
    "...\n",
    "print(a%b)\n",
    "\n",
    "참고\n",
    "python 언어에서는 나눈 나머지를 계산하는 연산자(%, remainder)를 제공한다.\n",
    "a%b 와 같이 작성하면, a를 b로 나눈 나머지(remainder)를 계산해준다.\n",
    "나머지 연산(modulus, mod 연산)은 수학자 가우스가 생각해 낸 연산으로,\n",
    "어떤 수를 다른 수로 나누고 난 후 남는 나머지를 계산하는 연산이다.\n",
    "\n",
    "실수로 나눈 나머지가 어떻게 계산될지도 생각해보자."
   ]
  },
  {
   "cell_type": "code",
   "execution_count": 29,
   "id": "56c8c31b",
   "metadata": {},
   "outputs": [
    {
     "name": "stdout",
     "output_type": "stream",
     "text": [
      "10 3\n",
      "1\n"
     ]
    }
   ],
   "source": [
    "a,b = map(int, input().split())\n",
    "print(a%b)"
   ]
  },
  {
   "cell_type": "markdown",
   "id": "78ddc9b1",
   "metadata": {},
   "source": [
    "본 문제는 python 의 빠른 기초 학습을 위해 설계된 문제로서 python 코드 제출을 기준으로 설명되어 있습니다. \n",
    "------\n",
    "\n",
    "실수 1개를 입력받아\n",
    "소숫점 이하 두 번째 자리까지의 정확도로 반올림한 값을 출력해보자.\n",
    "\n",
    "\n",
    "예시\n",
    "\n",
    "a=input()\n",
    "a=float(a)\n",
    "print( format(a, \".2f\") )\n",
    "\n",
    "\n",
    "참고\n",
    "format(수, \".2f\") 를 사용하면 원하는 자리까지의 정확도로 반올림 된 실수 값을 만들어 준다. \n",
    "\n",
    "여기서 만들어진 값은 소수점 아래 3번째 자리에서 반올림한 값이다.\n",
    "\n",
    "컴퓨터 프로그래밍에서 실수 변환이나 실수를 사용하는 계산은\n",
    "정확하게 변환되거나 계산되는 것이 아니라, 거의 모두 근사값으로 계산되는 것이라고 할 수 있다. \n",
    "\n",
    "실수가 컴퓨터로 저장되기 위해서는 디지털방식으로 2진 정수화되어 저장되어야 하는데,\n",
    "그 과정에서 아주 작은 부분이 저장되지 않고 사라지는 잘림(truncation) 오차가 자주 발생하기 때문이다."
   ]
  },
  {
   "cell_type": "code",
   "execution_count": 33,
   "id": "be29cafa",
   "metadata": {},
   "outputs": [
    {
     "name": "stdout",
     "output_type": "stream",
     "text": [
      "3.141592\n",
      "3.14\n"
     ]
    }
   ],
   "source": [
    "a = input()\n",
    "a = float(a)\n",
    "print(format(a,\".2f\"))"
   ]
  },
  {
   "cell_type": "markdown",
   "id": "51d0c0a8",
   "metadata": {},
   "source": [
    "본 문제는 python 의 빠른 기초 학습을 위해 설계된 문제로서 python 코드 제출을 기준으로 설명되어 있습니다. \n",
    "------\n",
    "\n",
    "실수 2개(f1, f2)를 입력받아\n",
    "f1 을 f2 로 나눈 값을 출력해보자. 이 때 소숫점 넷째자리에서 반올림하여 무조건 소숫점 셋째 자리까지 출력한다.\n",
    "\n",
    "\n",
    "참고\n",
    "python 언어에는 나눗셈(division)을 계산하는 연산자(/)가 있다.\n",
    "\n",
    "컴퓨터 프로그래밍에서 실수 변환이나 실수를 사용하는 계산은 \n",
    "정확하게 변환되거나 계산되는 것이 아니라, 거의 모두 근사값으로 계산되는 것이라고 할 수 있다.  \n",
    "\n",
    "실수가 컴퓨터로 저장되기 위해서는 디지털방식으로 2진 정수화되어 저장되어야 하는데, \n",
    "그 과정에서 아주 작은 부분이 저장되지 않고 사라지는 잘림(truncation) 오차가 자주 발생하기 때문이다.\n",
    "\n",
    "계산 결과값 중에서 믿을 수 있는 숫자의 개수를 의미하는, 유효숫자에 대해 찾아보자. \n",
    "과학실험에서 온도나 부피를 측정할 때에도 유효숫자는 중요하다. "
   ]
  },
  {
   "cell_type": "code",
   "execution_count": 37,
   "id": "4d10cac3",
   "metadata": {},
   "outputs": [
    {
     "name": "stdout",
     "output_type": "stream",
     "text": [
      "10.0 3.0\n",
      "3.333\n"
     ]
    }
   ],
   "source": [
    "f1,f2 = map(float, input().split())\n",
    "f3 = f1/f2\n",
    "print(format(f3, \".3f\"))"
   ]
  }
 ],
 "metadata": {
  "kernelspec": {
   "display_name": "Python 3 (ipykernel)",
   "language": "python",
   "name": "python3"
  },
  "language_info": {
   "codemirror_mode": {
    "name": "ipython",
    "version": 3
   },
   "file_extension": ".py",
   "mimetype": "text/x-python",
   "name": "python",
   "nbconvert_exporter": "python",
   "pygments_lexer": "ipython3",
   "version": "3.9.7"
  }
 },
 "nbformat": 4,
 "nbformat_minor": 5
}
