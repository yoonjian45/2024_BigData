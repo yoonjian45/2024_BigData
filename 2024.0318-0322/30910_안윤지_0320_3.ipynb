{
 "cells": [
  {
   "cell_type": "markdown",
   "id": "80e4e922",
   "metadata": {},
   "source": [
    "## 30910_안윤지_0320_3"
   ]
  },
  {
   "cell_type": "code",
   "execution_count": 2,
   "id": "93abaed3",
   "metadata": {},
   "outputs": [
    {
     "name": "stdout",
     "output_type": "stream",
     "text": [
      "a부터 b까지 정수의 합을 구합니다.\n",
      "정수 a를 입력하세요. : 1\n",
      "정수 b를 입력하세요. : 10\n",
      "1 + 2 + 3 + 4 + 5 + 6 + 7 + 8 + 9 + 10 = 55\n"
     ]
    }
   ],
   "source": [
    "print('a부터 b까지 정수의 합을 구합니다.')\n",
    "\n",
    "a = int(input('정수 a를 입력하세요. : '))\n",
    "b = int(input('정수 b를 입력하세요. : '))\n",
    "\n",
    "# 오름차순 정렬\n",
    "if a > b :\n",
    "    a, b = b, a\n",
    "\n",
    "sum = 0\n",
    "\n",
    "for i in range(a , b+1) : \n",
    "    if i < b :\n",
    "        print(f'{i} + ', end = \"\")\n",
    "    else :\n",
    "        print(f'{i} = ', end = \"\")\n",
    "    sum = sum + i\n",
    "    \n",
    "print(sum)"
   ]
  },
  {
   "cell_type": "code",
   "execution_count": 5,
   "id": "1b3b2ea2",
   "metadata": {},
   "outputs": [
    {
     "name": "stdout",
     "output_type": "stream",
     "text": [
      "a부터 b까지 정수의 합을 구합니다.\n",
      "정수 a를 입력하세요. : 81\n",
      "정수 b를 입력하세요. : 19\n",
      "19 + 20 + 21 + 22 + 23 + 24 + 25 + 26 + 27 + 28 + 29 + 30 + 31 + 32 + 33 + 34 + 35 + 36 + 37 + 38 + 39 + 40 + 41 + 42 + 43 + 44 + 45 + 46 + 47 + 48 + 49 + 50 + 51 + 52 + 53 + 54 + 55 + 56 + 57 + 58 + 59 + 60 + 61 + 62 + 63 + 64 + 65 + 66 + 67 + 68 + 69 + 70 + 71 + 72 + 73 + 74 + 75 + 76 + 77 + 78 + 79 + 80 + 81 = 3150\n"
     ]
    }
   ],
   "source": [
    "print('a부터 b까지 정수의 합을 구합니다.')\n",
    "\n",
    "a = int(input('정수 a를 입력하세요. : '))\n",
    "b = int(input('정수 b를 입력하세요. : '))\n",
    "\n",
    "# 오름차순 정렬\n",
    "if a > b :\n",
    "    a, b = b, a\n",
    "\n",
    "sum = 0\n",
    "\n",
    "for i in range(a , b):\n",
    "    print(f'{i} + ' , end = \"\")\n",
    "    sum = sum + i\n",
    "print(f'{b} = ' , end = \"\")\n",
    "sum = sum + b \n",
    "\n",
    "print(sum)"
   ]
  },
  {
   "cell_type": "code",
   "execution_count": 7,
   "id": "1400d2b8",
   "metadata": {},
   "outputs": [
    {
     "name": "stdout",
     "output_type": "stream",
     "text": [
      "+와 -를 번갈아 출력합니다\n",
      "몇 개를 출력할까요? : 12\n",
      "+-+-+-+-+-+-\n"
     ]
    }
   ],
   "source": [
    "print('+와 -를 번갈아 출력합니다')\n",
    "\n",
    "n = int(input('몇 개를 출력할까요? : '))\n",
    "\n",
    "for i in range(n):\n",
    "    if i % 2:\n",
    "        print('-' , end = \"\")\n",
    "    else:\n",
    "        print('+' , end = \"\")\n",
    "print()"
   ]
  },
  {
   "cell_type": "code",
   "execution_count": null,
   "id": "e8cc30c9",
   "metadata": {},
   "outputs": [],
   "source": []
  }
 ],
 "metadata": {
  "kernelspec": {
   "display_name": "Python 3 (ipykernel)",
   "language": "python",
   "name": "python3"
  },
  "language_info": {
   "codemirror_mode": {
    "name": "ipython",
    "version": 3
   },
   "file_extension": ".py",
   "mimetype": "text/x-python",
   "name": "python",
   "nbconvert_exporter": "python",
   "pygments_lexer": "ipython3",
   "version": "3.9.7"
  }
 },
 "nbformat": 4,
 "nbformat_minor": 5
}
