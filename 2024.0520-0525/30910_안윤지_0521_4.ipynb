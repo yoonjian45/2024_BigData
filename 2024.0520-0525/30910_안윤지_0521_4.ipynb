{
 "cells": [
  {
   "cell_type": "markdown",
   "id": "78d43fa4",
   "metadata": {},
   "source": [
    "## 30910_안윤지_0521_4"
   ]
  },
  {
   "cell_type": "code",
   "execution_count": 12,
   "id": "9ac1e881",
   "metadata": {},
   "outputs": [
    {
     "name": "stdout",
     "output_type": "stream",
     "text": [
      "-2147483648 2147483647\n"
     ]
    }
   ],
   "source": [
    "a = -0x80000000\n",
    "b = 0x7fffffff\n",
    "\n",
    "print(a,b)"
   ]
  },
  {
   "cell_type": "code",
   "execution_count": 23,
   "id": "b81020d2",
   "metadata": {},
   "outputs": [
    {
     "name": "stdout",
     "output_type": "stream",
     "text": [
      "special characters\n",
      "[\\n,\\\",\\\\] is very important\n"
     ]
    }
   ],
   "source": [
    "print('special characters')\n",
    "print('[\\\\n,\\\\\",\\\\\\] is very important.')"
   ]
  },
  {
   "cell_type": "code",
   "execution_count": null,
   "id": "f5855005",
   "metadata": {},
   "outputs": [],
   "source": [
    "special characters\n",
    "[\\n,\\\",\\\\] is very important"
   ]
  },
  {
   "cell_type": "code",
   "execution_count": 25,
   "id": "64380294",
   "metadata": {},
   "outputs": [
    {
     "name": "stdout",
     "output_type": "stream",
     "text": [
      "5\n",
      "5\n"
     ]
    }
   ],
   "source": [
    "a = int(input())\n",
    "print(a)"
   ]
  }
 ],
 "metadata": {
  "kernelspec": {
   "display_name": "Python 3 (ipykernel)",
   "language": "python",
   "name": "python3"
  },
  "language_info": {
   "codemirror_mode": {
    "name": "ipython",
    "version": 3
   },
   "file_extension": ".py",
   "mimetype": "text/x-python",
   "name": "python",
   "nbconvert_exporter": "python",
   "pygments_lexer": "ipython3",
   "version": "3.9.7"
  }
 },
 "nbformat": 4,
 "nbformat_minor": 5
}
