{
 "cells": [
  {
   "cell_type": "markdown",
   "id": "40d2b607",
   "metadata": {},
   "source": [
    "## 30910_안윤지_0520_1"
   ]
  },
  {
   "cell_type": "code",
   "execution_count": 5,
   "id": "87d8415f",
   "metadata": {},
   "outputs": [],
   "source": [
    "olympic = [[1,'미국',46,37,38,121],\n",
    "          [2,'영국',27,23,17,67],\n",
    "          [3,'중국',26,18,26,70], \n",
    "          [4,'러시아',19,18,18,56],\n",
    "          [5,'독일',17,10,15,42],\n",
    "          [6,'일본',12,8,21,41],\n",
    "          [7,'프랑스',10,18,14,42],\n",
    "          [8,'대한민국',9,3,9,21]]"
   ]
  },
  {
   "cell_type": "code",
   "execution_count": 6,
   "id": "e86b5935",
   "metadata": {},
   "outputs": [
    {
     "name": "stdout",
     "output_type": "stream",
     "text": [
      "미국 금매달 개수 :  46\n",
      "독일 금매달 개수 :  17\n"
     ]
    }
   ],
   "source": [
    "# 미국 독일 금매달 개수 출력해 보기 행과ㅠ \n",
    "print(olympic[0][1],'금매달 개수 : ',olympic[0][2])\n",
    "print(olympic[4][1],'금매달 개수 : ',olympic[4][2])"
   ]
  },
  {
   "cell_type": "code",
   "execution_count": 7,
   "id": "bfd8a978",
   "metadata": {},
   "outputs": [
    {
     "name": "stdout",
     "output_type": "stream",
     "text": [
      "금매달보다 은매달이 더 많은 나라\n",
      "프랑스\n"
     ]
    }
   ],
   "source": [
    "# 금매달보다 은매달이 더 많은 나라\n",
    "print('금매달보다 은매달이 더 많은 나라')\n",
    "\n",
    "for row in olympic:\n",
    "    if row[2] < row[3]:\n",
    "        print(row[1])"
   ]
  },
  {
   "cell_type": "code",
   "execution_count": 9,
   "id": "a1283990",
   "metadata": {},
   "outputs": [
    {
     "name": "stdout",
     "output_type": "stream",
     "text": [
      "금매달보다 동매달이 더 많은 나라\n",
      "일본\n",
      "프랑스\n"
     ]
    }
   ],
   "source": [
    "# 금매달보다 동매달이 더 많은 나라 출력하기\n",
    "\n",
    "print('금매달보다 동매달이 더 많은 나라')\n",
    "\n",
    "for row in olympic:\n",
    "    if row[2] < row[4]:\n",
    "        print(row[1])"
   ]
  },
  {
   "cell_type": "code",
   "execution_count": 12,
   "id": "741ae322",
   "metadata": {},
   "outputs": [
    {
     "name": "stdout",
     "output_type": "stream",
     "text": [
      "금매달의 전체 개수는 ? \n",
      "166\n"
     ]
    }
   ],
   "source": [
    "# 금매달의 전체 개수를 출력하기\n",
    "\n",
    "print('금매달의 전체 개수는 ? ')\n",
    "\n",
    "total_gold = 0\n",
    "\n",
    "for row in olympic:\n",
    "    total_gold += row[2]\n",
    "print(total_gold)"
   ]
  },
  {
   "cell_type": "code",
   "execution_count": 31,
   "id": "ec660053",
   "metadata": {},
   "outputs": [
    {
     "name": "stdout",
     "output_type": "stream",
     "text": [
      "['역사탐험대', '파이썬', '학습법', '영어단어', '여행에서이', '삼국자']\n",
      "[24874, 21616, 16493, 20418, 23110, 20233]\n"
     ]
    }
   ],
   "source": [
    "import random\n",
    "\n",
    "book_name = ['역사탐험대','파이썬','학습법','영어단어','여행에서이','삼국자']\n",
    "\n",
    "book_price = []\n",
    "\n",
    "for i in range(len(book_name)):\n",
    "    book_price.append(random.randint(15000,25000))\n",
    "\n",
    "print(book_name)\n",
    "print(book_price)"
   ]
  },
  {
   "cell_type": "code",
   "execution_count": 32,
   "id": "1b680c2f",
   "metadata": {},
   "outputs": [
    {
     "name": "stdout",
     "output_type": "stream",
     "text": [
      "가장 비싼 책은?\n",
      "역사탐험대\n"
     ]
    }
   ],
   "source": [
    "# 가장 비싼 책은>\n",
    "\n",
    "print('가장 비싼 책은?')\n",
    "\n",
    "expensive = max(book_price)\n",
    "idx = book_price.index(expensive)\n",
    "print(book_name[idx])"
   ]
  }
 ],
 "metadata": {
  "kernelspec": {
   "display_name": "Python 3 (ipykernel)",
   "language": "python",
   "name": "python3"
  },
  "language_info": {
   "codemirror_mode": {
    "name": "ipython",
    "version": 3
   },
   "file_extension": ".py",
   "mimetype": "text/x-python",
   "name": "python",
   "nbconvert_exporter": "python",
   "pygments_lexer": "ipython3",
   "version": "3.9.7"
  }
 },
 "nbformat": 4,
 "nbformat_minor": 5
}
