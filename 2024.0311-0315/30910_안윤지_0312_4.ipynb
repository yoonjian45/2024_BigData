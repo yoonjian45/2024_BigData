{
 "cells": [
  {
   "cell_type": "markdown",
   "id": "0e685dd1",
   "metadata": {},
   "source": [
    "## 30910_안윤지_0312_4"
   ]
  },
  {
   "cell_type": "markdown",
   "id": "6f02cdfd",
   "metadata": {},
   "source": [
    "## 2.3 데이터를 넣는 입력 명령어\n",
    "#### 2.3.2 입력 명령어 input()"
   ]
  },
  {
   "cell_type": "code",
   "execution_count": 3,
   "id": "55f357f6",
   "metadata": {},
   "outputs": [
    {
     "name": "stdout",
     "output_type": "stream",
     "text": [
      "성일정보\n"
     ]
    },
    {
     "data": {
      "text/plain": [
       "'성일정보'"
      ]
     },
     "execution_count": 3,
     "metadata": {},
     "output_type": "execute_result"
    }
   ],
   "source": [
    "input()"
   ]
  },
  {
   "cell_type": "code",
   "execution_count": 5,
   "id": "21fe0bec",
   "metadata": {},
   "outputs": [
    {
     "name": "stdout",
     "output_type": "stream",
     "text": [
      "이름안윤지\n"
     ]
    },
    {
     "data": {
      "text/plain": [
       "'안윤지'"
      ]
     },
     "execution_count": 5,
     "metadata": {},
     "output_type": "execute_result"
    }
   ],
   "source": [
    "input('이름')"
   ]
  },
  {
   "cell_type": "markdown",
   "id": "45ced655",
   "metadata": {},
   "source": [
    "출력형태\n",
    "```\n",
    "아이디 : \n",
    "비밀번호 :\n",
    "```"
   ]
  },
  {
   "cell_type": "code",
   "execution_count": 9,
   "id": "4cd7fec4",
   "metadata": {},
   "outputs": [
    {
     "name": "stdout",
     "output_type": "stream",
     "text": [
      "아이디 : 111\n",
      "비밀번호 : 111\n"
     ]
    },
    {
     "data": {
      "text/plain": [
       "'111'"
      ]
     },
     "execution_count": 9,
     "metadata": {},
     "output_type": "execute_result"
    }
   ],
   "source": [
    "input(\"아이디 : \")\n",
    "input(\"비밀번호 : \")"
   ]
  },
  {
   "cell_type": "markdown",
   "id": "ab5fc08c",
   "metadata": {},
   "source": [
    "\n",
    "학번을 입력하세요 ---> 30900"
   ]
  },
  {
   "cell_type": "code",
   "execution_count": 15,
   "id": "b158f877",
   "metadata": {},
   "outputs": [
    {
     "name": "stdout",
     "output_type": "stream",
     "text": [
      "학번을 입력하세요 ---> 30910\n"
     ]
    },
    {
     "data": {
      "text/plain": [
       "'30910'"
      ]
     },
     "execution_count": 15,
     "metadata": {},
     "output_type": "execute_result"
    }
   ],
   "source": [
    "input(\"학번을 입력하세요 ---> \" )"
   ]
  },
  {
   "cell_type": "markdown",
   "id": "f3e9def2",
   "metadata": {},
   "source": [
    "```\n",
    "---회원가입---\n",
    "아이디 : gilbut\n",
    "가입을 환영합니다\n",
    "```"
   ]
  },
  {
   "cell_type": "code",
   "execution_count": 17,
   "id": "e9fbb400",
   "metadata": {},
   "outputs": [
    {
     "name": "stdout",
     "output_type": "stream",
     "text": [
      "---회원가입---\n",
      "아이디 : gibut\n",
      "가입을 환영합니다! \n"
     ]
    }
   ],
   "source": [
    "print('---회원가입---')\n",
    "input('아이디 : ')\n",
    "print('가입을 환영합니다! ')"
   ]
  },
  {
   "cell_type": "markdown",
   "id": "5d1ca93b",
   "metadata": {},
   "source": [
    "> 출력해 봅시다\n",
    "\n",
    "```\n",
    "닉네임으 입력해 주세요 ---> 졔졔쌤\n",
    "졔졔쌤 안녕하세요\n",
    "```"
   ]
  },
  {
   "cell_type": "code",
   "execution_count": 18,
   "id": "aef0ccdc",
   "metadata": {},
   "outputs": [
    {
     "name": "stdout",
     "output_type": "stream",
     "text": [
      "닉네임을 입력해 주세요 ---> 호쌤\n",
      "호쌤님 안녕하세요\n"
     ]
    }
   ],
   "source": [
    "print(input(\"닉네임을 입력해 주세요 ---> \") + '님 안녕하세요')"
   ]
  }
 ],
 "metadata": {
  "kernelspec": {
   "display_name": "Python 3 (ipykernel)",
   "language": "python",
   "name": "python3"
  },
  "language_info": {
   "codemirror_mode": {
    "name": "ipython",
    "version": 3
   },
   "file_extension": ".py",
   "mimetype": "text/x-python",
   "name": "python",
   "nbconvert_exporter": "python",
   "pygments_lexer": "ipython3",
   "version": "3.9.7"
  }
 },
 "nbformat": 4,
 "nbformat_minor": 5
}
