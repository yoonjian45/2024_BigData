{
 "cells": [
  {
   "cell_type": "markdown",
   "id": "1dcef1b8",
   "metadata": {},
   "source": [
    "## 30910_안윤지_0508_3"
   ]
  },
  {
   "cell_type": "code",
   "execution_count": 2,
   "id": "200f8e80",
   "metadata": {},
   "outputs": [
    {
     "name": "stdout",
     "output_type": "stream",
     "text": [
      "영어단어, 뜻 : banana,바나나\n",
      "영어단어, 뜻 : \n"
     ]
    },
    {
     "data": {
      "text/plain": [
       "{'banana': '바나나'}"
      ]
     },
     "execution_count": 2,
     "metadata": {},
     "output_type": "execute_result"
    }
   ],
   "source": [
    "# 빈 딕셔너리 만들기\n",
    "dict_word = {}\n",
    "\n",
    "#공백을 입력할때 까지 입력 키값과 벨류값 받기\n",
    "while True:\n",
    "    input_word = input('영어단어, 뜻 : ')\n",
    "    if input_word == '':\n",
    "        break\n",
    "    # 키값과 벨류값 분리하기\n",
    "    eng = input_word.split(',')[0]\n",
    "    kor = input_word.split(',')[1]\n",
    "    \n",
    "    # 키값과 벨류값 정하기\n",
    "    dict_word[eng] = kor\n",
    "    \n",
    "#출력하기\n",
    "dict_word"
   ]
  },
  {
   "cell_type": "code",
   "execution_count": 3,
   "id": "b5e7dbd0",
   "metadata": {},
   "outputs": [
    {
     "name": "stdout",
     "output_type": "stream",
     "text": [
      "물건구매가 : 2000000\n",
      "구매가 : 2000000 할인율 : 10% 할인금액 : 200000.0 지불금액 : 1800000.0\n"
     ]
    }
   ],
   "source": [
    "price = int(input('물건구매가 : '))\n",
    "\n",
    "# 할인율 결정\n",
    "if price >= 100000:\n",
    "    dc = 10\n",
    "elif price >= 50000:\n",
    "    dc = 7\n",
    "elif price >= 10000:\n",
    "    dc = 5\n",
    "else:\n",
    "    dc = 0\n",
    "    \n",
    "# 출력\n",
    "print(f'''구매가 : {price} 할인율 : {dc}% 할인금액 : {price*(dc/100)} 지불금액 : {price - price*(dc/100)}''')"
   ]
  },
  {
   "cell_type": "code",
   "execution_count": 7,
   "id": "da05b829",
   "metadata": {},
   "outputs": [
    {
     "name": "stdout",
     "output_type": "stream",
     "text": [
      "숫자1: 5 \n",
      "숫자2: 5\n",
      "연산기호 : /\n",
      "나눗셈 : 5 / 5 = 1.0\n"
     ]
    }
   ],
   "source": [
    "num1 = int(input('숫자1: '))\n",
    "num2 = int(input('숫자2: '))\n",
    "op =input('연산기호 : ')\n",
    "\n",
    "if op == '+':\n",
    "    print(f'덧셈 : {num1} + {num2} = {num1+num2}')\n",
    "elif op == '-':\n",
    "    print(f'뺼셈 : {num1} - {num2} = {num1-num2}')\n",
    "elif op == '*':\n",
    "    print(f'곱셈 : {num1} * {num2} = {num1*num2}')\n",
    "elif op == '/':\n",
    "    print(f'나눗셈 : {num1} / {num2} = {num1/num2}')\n",
    "else:\n",
    "    print(f'잘못 입력하셨습니다')"
   ]
  },
  {
   "cell_type": "code",
   "execution_count": 8,
   "id": "25cc9339",
   "metadata": {},
   "outputs": [
    {
     "name": "stdout",
     "output_type": "stream",
     "text": [
      "Attempt 1. 예상 숫자를 입력하세요(1-100) : 67\n",
      "Down\n",
      "Attempt 2. 예상 숫자를 입력하세요(1-100) : 34\n",
      "Down\n",
      "Attempt 3. 예상 숫자를 입력하세요(1-100) : 2\n",
      "Up\n",
      "Attempt 4. 예상 숫자를 입력하세요(1-100) : 34\n",
      "Down\n",
      "Attempt 5. 예상 숫자를 입력하세요(1-100) : 156\n",
      "Down\n",
      "횟수 초과입니다. 정답은 12입니다.\n"
     ]
    }
   ],
   "source": [
    "import random\n",
    "def guess_number_game(max_attempts =5):\n",
    "    cnt = 0\n",
    "    num = random.randint(1,100)\n",
    "    \n",
    "    while cnt < max_attempts:\n",
    "        cnt += 1\n",
    "        answer = int(input(f'Attempt {cnt}. 예상 숫자를 입력하세요(1-100) : '))\n",
    "        if answer == num : \n",
    "            print(f'정답 입니다!')\n",
    "            print(f'{cnt}번 만에 맞추었습니다.')\n",
    "            return\n",
    "        \n",
    "        if answer < num:\n",
    "            print('Up')\n",
    "        else:\n",
    "            print('Down')\n",
    "            \n",
    "    print(f'횟수 초과입니다. 정답은 {num}입니다.')\n",
    "guess_number_game()"
   ]
  },
  {
   "cell_type": "code",
   "execution_count": 9,
   "id": "90134dc6",
   "metadata": {},
   "outputs": [
    {
     "name": "stdout",
     "output_type": "stream",
     "text": [
      "id : id123\n",
      "pwd : pw123\n"
     ]
    }
   ],
   "source": [
    "id = 'id123'\n",
    "pwd = 'pw123'\n",
    "\n",
    "while True:\n",
    "    input_id = input('id : ')\n",
    "    input_pwd = input('pwd : ')\n",
    "    \n",
    "    if id == input_id and pwd ==input_pwd:\n",
    "        break\n",
    "    if id != input_id:\n",
    "        print(f'아이디를 확인하세요')\n",
    "    if pwd != input_pwd:\n",
    "        print(f'비밀번호를 확인하세요')"
   ]
  }
 ],
 "metadata": {
  "kernelspec": {
   "display_name": "Python 3 (ipykernel)",
   "language": "python",
   "name": "python3"
  },
  "language_info": {
   "codemirror_mode": {
    "name": "ipython",
    "version": 3
   },
   "file_extension": ".py",
   "mimetype": "text/x-python",
   "name": "python",
   "nbconvert_exporter": "python",
   "pygments_lexer": "ipython3",
   "version": "3.9.7"
  }
 },
 "nbformat": 4,
 "nbformat_minor": 5
}
