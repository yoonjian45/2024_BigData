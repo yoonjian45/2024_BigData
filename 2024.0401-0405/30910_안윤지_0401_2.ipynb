{
 "cells": [
  {
   "cell_type": "markdown",
   "id": "80d2d575",
   "metadata": {},
   "source": [
    "본 문제는 python 의 빠른 기초 학습을 위해 설계된 문제로서 python 코드 제출을 기준으로 설명되어 있습니다. \n",
    "------\n",
    "\n",
    "2개의 정수값이 입력될 때,\n",
    "그 불 값이 하나라도 True 일 때에만 True 를 출력하는 프로그램을 작성해보자.\n",
    "\n",
    "참고\n",
    "or 예약어는 주어진 두 불 값 중에서 하나라도 True 이면 True 로 계산하고, 나머지 경우는 False 로 계산한다.\n",
    "이러한 논리연산을 OR 연산(boolean OR)이라고도 부르고, + 로 표시하거나, 집합 기호 ∪(합집합, union)로 표시하기도 한다.\n",
    "모두 같은 의미이다.\n",
    "\n",
    "참, 거짓의 논리값 인 불(boolean) 값을 다루어주는 예약어는 not, and, or 이 있고,\n",
    "불 값들 사이의 논리(not, and, or) 연산 결과도 마찬가지로 True 또는 False 의 불 값으로 계산된다.\n",
    "\n",
    "** 불 대수(boolean algebra)는 수학자 불이 만들어낸 것으로 True(참)/False(거짓) 값만 가지는 논리값과 그 값들 사이의 연산을 다룬다."
   ]
  },
  {
   "cell_type": "code",
   "execution_count": 8,
   "id": "5e5d2583",
   "metadata": {},
   "outputs": [
    {
     "name": "stdout",
     "output_type": "stream",
     "text": [
      "1 1\n",
      "True\n"
     ]
    }
   ],
   "source": [
    "a,b = input().split()\n",
    "print(bool(int(a)) or bool(int(b)))"
   ]
  },
  {
   "cell_type": "markdown",
   "id": "d77e8c0c",
   "metadata": {},
   "source": [
    "본 문제는 python 의 빠른 기초 학습을 위해 설계된 문제로서 python 코드 제출을 기준으로 설명되어 있습니다. \n",
    "------\n",
    "\n",
    "2개의 정수값이 입력될 때,\n",
    "그 불 값(True/False) 이 서로 다를 때에만 True 를 출력하는 프로그램을 작성해보자.\n",
    "\n",
    "예시\n",
    "...\n",
    "c = bool(int(a))\n",
    "d = bool(int(b))\n",
    "print((c and (not d)) or ((not c) and d))\n",
    "\n",
    "참고\n",
    "참 거짓이 서로 다를 때에만 True 로 계산하는 논리연산을 XOR(exclusive or, 배타적 논리합) 연산이라고도 부른다.\n",
    "\n",
    "논리연산자는 사칙(+, -, *, /) 연산자와 마찬가지로 여러 번 중복해서 사용할 수 있는데, \n",
    "사칙 연산자와 마찬가지로 계산 순서를 표시하기 위해 괄호 ( )를 사용할 수 있다.\n",
    "괄호를 사용하면 계산 순서를 명확하게 표현할 수 있다.\n",
    "\n",
    "수학 식에서는 소괄호 (), 중괄호 {}, 대괄호 []를 사용하기도 하지만, 프로그래밍언어에서는 소괄호 ( ) 만 사용한다.\n",
    "\n",
    "** 불 대수(boolean algebra)는 수학자 불이 만들어낸 것으로 True(참)/False(거짓) 값만 가지는 논리값과 그 값들 사이의 연산을 다룬다."
   ]
  },
  {
   "cell_type": "code",
   "execution_count": 9,
   "id": "ddfb477b",
   "metadata": {},
   "outputs": [
    {
     "name": "stdout",
     "output_type": "stream",
     "text": [
      "1 1\n",
      "False\n"
     ]
    }
   ],
   "source": [
    "a,b = input().split()\n",
    "c = bool(int(a))\n",
    "d = bool(int(b))\n",
    "print((c and (not d)) or ((not c) and d))"
   ]
  },
  {
   "cell_type": "markdown",
   "id": "9cbb1b2c",
   "metadata": {},
   "source": [
    "본 문제는 python 의 빠른 기초 학습을 위해 설계된 문제로서 python 코드 제출을 기준으로 설명되어 있습니다. \n",
    "------\n",
    "\n",
    "2개의 정수값이 입력될 때,\n",
    "그 불 값(True/False) 이 서로 같을 때에만 True 를 출력하는 프로그램을 작성해보자."
   ]
  },
  {
   "cell_type": "code",
   "execution_count": 17,
   "id": "9e617882",
   "metadata": {
    "scrolled": true
   },
   "outputs": [
    {
     "name": "stdout",
     "output_type": "stream",
     "text": [
      "0 0\n",
      "True\n"
     ]
    }
   ],
   "source": [
    "a,b = input().split()\n",
    "c = bool(int(a))\n",
    "d = bool(int(b))\n",
    "print(c == d)"
   ]
  },
  {
   "cell_type": "markdown",
   "id": "28ea35ef",
   "metadata": {},
   "source": [
    "본 문제는 python 의 빠른 기초 학습을 위해 설계된 문제로서 python 코드 제출을 기준으로 설명되어 있습니다. \n",
    "------\n",
    "\n",
    "2개의 정수값이 입력될 때,\n",
    "그 불 값(True/False) 이 모두 False 일 때에만 True 를 출력하는 프로그램을 작성해보자."
   ]
  },
  {
   "cell_type": "code",
   "execution_count": 19,
   "id": "163481cc",
   "metadata": {},
   "outputs": [
    {
     "name": "stdout",
     "output_type": "stream",
     "text": [
      "0 0\n",
      "True\n"
     ]
    }
   ],
   "source": [
    "a,b = input().split()\n",
    "c = bool(int(a))\n",
    "d = bool(int(b))\n",
    "print((not c) and (not d))"
   ]
  },
  {
   "cell_type": "markdown",
   "id": "454f94a0",
   "metadata": {},
   "source": [
    "본 문제는 python 의 빠른 기초 학습을 위해 설계된 문제로서 python 코드 제출을 기준으로 설명되어 있습니다. \n",
    "------\n",
    "\n",
    "입력 된 정수를 비트단위로 참/거짓을 바꾼 후 정수로 출력해보자.\n",
    "비트단위(bitwise)연산자 ~ 를 붙이면 된다.(~ : tilde, 틸드라고 읽는다.)\n",
    "\n",
    "** 비트단위(bitwise) 연산자는,\n",
    "~(bitwise not), &(bitwise and), |(bitwise or), ^(bitwise xor),\n",
    "<<(bitwise left shift), >>(bitwise right shift)\n",
    "가 있다.\n",
    "\n",
    "예를 들어 1이 입력되었을 때 저장되는 1을 32비트 2진수로 표현하면\n",
    "        00000000 00000000 00000000 00000001 이고,\n",
    "~1은 11111111 11111111 11111111 11111110 가 되는데 이는 -2를 의미한다.\n",
    "\n",
    "예시\n",
    "a = 1\n",
    "print(~a) #-2가 출력된다.\n",
    "\n",
    "참고\n",
    "컴퓨터에 저장되는 모든 데이터들은 2진수 형태로 바뀌어 저장된다.\n",
    "0과 1로만 구성되는 비트단위들로 변환되어 저장되는데,\n",
    "양의 정수는 2진수 형태로 바뀌어 저장되고, 음의 정수는 \"2의 보수 표현\"방법으로 저장된다.\n",
    "\n",
    "양의 정수 5를 32비트로 저장하면, \n",
    "\n",
    "5의 2진수 형태인 101이 32비트로 만들어져\n",
    "00000000 00000000 00000000 00000101\n",
    "로 저장된다.(공백은 보기 편하도록 임의로 분리)\n",
    "\n",
    "32비트 형의 정수 0은\n",
    "00000000 00000000 00000000 00000000\n",
    "\n",
    "그리고 -1은 0에서 1을 더 빼고 32비트만 표시하는 형태로\n",
    "11111111 11111111 11111111 11111111 로 저장된다.\n",
    "\n",
    "-2는 -1에서 1을 더 빼면 된다.\n",
    "11111111 11111111 11111111 11111110 로 저장된다.\n",
    "\n",
    "이러한 내용을 간단히 표현하면, 정수 n이라고 할 때,\n",
    "\n",
    "~n = -n - 1\n",
    "-n = ~n + 1 과 같은 관계로 표현할 수 있다.\n",
    "\n",
    "이 관계를 그림으로 그려보면 마치 원형으로 수들이 상대적으로 배치된 것과 같다."
   ]
  },
  {
   "cell_type": "code",
   "execution_count": 29,
   "id": "8a06438e",
   "metadata": {},
   "outputs": [
    {
     "name": "stdout",
     "output_type": "stream",
     "text": [
      "2\n",
      "-3\n"
     ]
    }
   ],
   "source": [
    "a = int(input())\n",
    "print(~a)"
   ]
  },
  {
   "cell_type": "markdown",
   "id": "4e8b51f0",
   "metadata": {},
   "source": [
    "본 문제는 python 의 빠른 기초 학습을 위해 설계된 문제로서 python 코드 제출을 기준으로 설명되어 있습니다. \n",
    "------\n",
    "\n",
    "입력된 정수 두 개를 비트단위로 and 연산한 후 그 결과를 정수로 출력해보자.\n",
    "비트단위(bitwise)연산자 &를 사용하면 된다.(and, ampersand, 앰퍼센드라고 읽는다.)\n",
    "\n",
    "** 비트단위(bitwise)연산자는,\n",
    "~(bitwise not), &(bitwise and), |(bitwise or), ^(bitwise xor),\n",
    "<<(bitwise left shift), >>(bitwise right shift)\n",
    "가 있다.\n",
    "\n",
    "예를 들어 3과 5가 입력되었을 때를 살펴보면\n",
    "3       : 00000000 00000000 00000000 00000011\n",
    "5       : 00000000 00000000 00000000 00000101\n",
    "3 & 5 : 00000000 00000000 00000000 00000001\n",
    "이 된다.\n",
    "\n",
    "비트단위 and 연산은 두 비트열이 주어졌을 때,\n",
    "둘 다 1인 부분의 자리만 1로 만들어주는 것과 같다.\n",
    "\n",
    "이 연산을 이용하면 어떤 비트열의 특정 부분만 모두 0으로도 만들 수 있는데\n",
    "192.168.0.31   : 11000000.10101000.00000000.00011111\n",
    "255.255.255.0 : 11111111.11111111.11111111.00000000\n",
    "\n",
    "두 개의 ip 주소를 & 연산하면\n",
    "192.168.0.0 :     110000000.10101000.0000000.00000000 을 계산할 수 있다.\n",
    "\n",
    "실제로 이 계산은 네트워크에 연결되어 있는 두 개의 컴퓨터가 데이터를 주고받기 위해\n",
    "같은 네트워크에 있는지 아닌지를 판단하는데 사용된다.\n",
    "\n",
    "이러한 비트단위 연산은 빠른 계산이 필요한 그래픽처리에서\n",
    "마스크연산(특정 부분을 가리고 출력하는)을 수행하는 데에도 효과적으로 사용된다."
   ]
  },
  {
   "cell_type": "code",
   "execution_count": 33,
   "id": "af185663",
   "metadata": {
    "scrolled": false
   },
   "outputs": [
    {
     "name": "stdout",
     "output_type": "stream",
     "text": [
      "3 5\n",
      "1\n"
     ]
    }
   ],
   "source": [
    "a,b = map(int, input().split())\n",
    "print(a&b)"
   ]
  }
 ],
 "metadata": {
  "kernelspec": {
   "display_name": "Python 3 (ipykernel)",
   "language": "python",
   "name": "python3"
  },
  "language_info": {
   "codemirror_mode": {
    "name": "ipython",
    "version": 3
   },
   "file_extension": ".py",
   "mimetype": "text/x-python",
   "name": "python",
   "nbconvert_exporter": "python",
   "pygments_lexer": "ipython3",
   "version": "3.9.7"
  }
 },
 "nbformat": 4,
 "nbformat_minor": 5
}
