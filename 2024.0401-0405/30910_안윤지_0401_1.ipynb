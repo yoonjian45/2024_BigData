{
 "cells": [
  {
   "cell_type": "markdown",
   "id": "3ae3d41a",
   "metadata": {},
   "source": [
    "## 배열 원소의 최댓값을 구하는 함수 구현하기\n",
    "- 실습 2-2\n",
    "    - 배열 원소의 최댓갑을 구하는 프로그램\n",
    "    \n",
    "    - max_of() 함수\n",
    "        - 배열 a의 최댓값을 구하는 함수\n",
    "    - 함수 어노테이션과 if_name == _'main_'에 다라 프로그램을 실행하도록 구현"
   ]
  },
  {
   "cell_type": "code",
   "execution_count": 23,
   "id": "8e292e45",
   "metadata": {},
   "outputs": [
    {
     "name": "stdout",
     "output_type": "stream",
     "text": [
      "배열의 최댓값을 구합니다.\n",
      "원소 수를 입력하세요 : 5\n",
      "x[0]를 입력하세요 : 172\n",
      "x[1]를 입력하세요 : 153\n",
      "x[2]를 입력하세요 : 192\n",
      "x[3]를 입력하세요 : 140\n",
      "x[4]를 입력하세요 : 165\n",
      "최댓값을 192입니다.\n"
     ]
    }
   ],
   "source": [
    "from typing import Any, Sequence\n",
    "\n",
    "def max_of(a: Sequence) -> Any:\n",
    "    \"\"\"시퀸스형 a 요소의 최댓값을 변환\"\"\"\n",
    "    maximum = a[0]\n",
    "    for i in range(1,len(a)):\n",
    "        if a[i] > maximum:\n",
    "            maximum = a[i]\n",
    "    return maximum\n",
    "\n",
    "if __name__ == '__main__':\n",
    "    print('배열의 최댓값을 구합니다.')\n",
    "    num = int(input('원소 수를 입력하세요 : '))\n",
    "    x = [None] * num # 원소 수가 mun인 리스트를 생성\n",
    "    \n",
    "    for i in range(num):\n",
    "        x[i] =int(input(f'x[{i}]를 입력하세요 : '))\n",
    "        \n",
    "    print(f'최댓값을 {max_of(x)}입니다.')"
   ]
  },
  {
   "cell_type": "markdown",
   "id": "7a96ec3b",
   "metadata": {},
   "source": [
    "- 실습 2-3\n",
    "    - 정숫값을 차례대로 입력 받다가 Emd를 입력하면 다 이상 입력 받지 않으며 그 시점에서 원소 수를 확정하는 프로그램\n",
    "    - 실습 2-2에서 모든 무듈 max로 정의된 max_of() 함수를 사용할 수 있도록 임포트\n",
    "    \n",
    "    - While문을 실행하고 사용자가 End를 입력하면 break문이 작동하여 while문을 종료\n",
    "    - 입력 받은 값이 End가 아니면 입력 받은 문자열을 int() 함수로 변환하고 벼열 x에 차례대로 추가\n",
    "    - 변수 number는 0으로 초기화한 뒤 정수를 입력 받을 떄마다 1씩 증가시켜 입력 받은 정수를 입력 받은 정수의 개수는 배열 x의 원소 수와 일치"
   ]
  },
  {
   "cell_type": "code",
   "execution_count": 25,
   "id": "3c9e1203",
   "metadata": {},
   "outputs": [
    {
     "name": "stdout",
     "output_type": "stream",
     "text": [
      "배열의 최댓갑을 구합니다.\n",
      "주의 : \"End\"를 입력하면 종료합니다.\n",
      "x[0]를 입력하세요. : 124\n",
      "x[1]를 입력하세요. : 1244\n",
      "x[2]를 입력하세요. : end\n",
      "2개를 입력하세요.\n",
      "최댓값은 1244입니다.\n"
     ]
    }
   ],
   "source": [
    "print('배열의 최댓갑을 구합니다.')\n",
    "print('주의 : \"End\"를 입력하면 종료합니다.')\n",
    "\n",
    "number = 0\n",
    "x = []\n",
    "\n",
    "while True:\n",
    "    s = input(f'x[{number}]를 입력하세요. : ')\n",
    "    if s == 'end':\n",
    "        break\n",
    "    x.append(int(s))\n",
    "    number += 1\n",
    "    \n",
    "print(f'{number}개를 입력하세요.')\n",
    "print(f'최댓값은 {max_of(x)}입니다.')"
   ]
  },
  {
   "cell_type": "markdown",
   "id": "bdc55f20",
   "metadata": {},
   "source": [
    "- 실습 2-4\n",
    "    - 배열의 원소 수, 최댓값, 최솟값은 입력 받고, 최댓값과 최솟값 안에서 배열을 구성하는 원솟값은 난수로 결정하는 프로그램\n",
    "    - 실습 2-2 에서 모듈 max로 정의된 max_of()함수를 사용할 수 있도록 임포트"
   ]
  },
  {
   "cell_type": "code",
   "execution_count": 14,
   "id": "483be23b",
   "metadata": {},
   "outputs": [
    {
     "name": "stdout",
     "output_type": "stream",
     "text": [
      "난수의 최댓값을 구합니다.\n",
      "난수의 개수를 입력하세요. : 5\n",
      "난수의 최소값를 입력하세요. : 10\n",
      "난수의 최댓값를 입력하세요. : 99\n",
      "[79, 76, 83, 45, 56]\n",
      "이 가운데 최댓값은 56입니다.\n"
     ]
    }
   ],
   "source": [
    "import random\n",
    "\n",
    "print('난수의 최댓값을 구합니다.')\n",
    "num = int(input('난수의 개수를 입력하세요. : '))\n",
    "lo = int(input('난수의 최소값를 입력하세요. : '))\n",
    "hi = int(input('난수의 최댓값를 입력하세요. : '))\n",
    "x = [None] * num\n",
    "\n",
    "for i in range(num):\n",
    "    x[i] = random.randint(lo, hi)\n",
    "    \n",
    "print(f'{(x)}')\n",
    "print(f'이 가운데 최댓값은 {max_of(x)}입니다.')"
   ]
  }
 ],
 "metadata": {
  "kernelspec": {
   "display_name": "Python 3 (ipykernel)",
   "language": "python",
   "name": "python3"
  },
  "language_info": {
   "codemirror_mode": {
    "name": "ipython",
    "version": 3
   },
   "file_extension": ".py",
   "mimetype": "text/x-python",
   "name": "python",
   "nbconvert_exporter": "python",
   "pygments_lexer": "ipython3",
   "version": "3.9.7"
  }
 },
 "nbformat": 4,
 "nbformat_minor": 5
}
