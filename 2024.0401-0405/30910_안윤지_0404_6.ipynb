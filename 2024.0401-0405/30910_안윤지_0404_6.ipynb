{
 "cells": [
  {
   "cell_type": "markdown",
   "id": "72699c9b",
   "metadata": {},
   "source": [
    "## 30910_안윤지_0404_6"
   ]
  },
  {
   "cell_type": "markdown",
   "id": "4ccfa6ea",
   "metadata": {},
   "source": [
    "## 리스트와 튜플 알아보기\n",
    "- 리스트와 튜플 풀어내기\n",
    "    - 좌벼넹는 여러개의 변수를 놓고 우벼넹는 리스트나 튜플을 놓으면 우변의 원소를 좌변의 변수에 한번에 대입가능\n",
    "    -언팩 unpack\n",
    "        - 리스트나 튜플의 원솟값들을 풀어 여러 변수에 대입\n",
    "        \n",
    "- 슬라이스 slice\n",
    "    - 리스트나 튜플의 원소 일부를 연속해서 또는 일정한 간격으로 꺼내 새로운 리스트나 튜플을 만드는것\n",
    "    - s[i : j] s[i]부터 [j - i]까지 나열\n",
    "    - s[i : j : k] i부터 j - 1까지 k만큼 건너뛰며 나열"
   ]
  },
  {
   "cell_type": "code",
   "execution_count": 1,
   "id": "c07187cf",
   "metadata": {},
   "outputs": [
    {
     "data": {
      "text/plain": [
       "[1, 2, 3]"
      ]
     },
     "execution_count": 1,
     "metadata": {},
     "output_type": "execute_result"
    }
   ],
   "source": [
    "x = [1,2,3]\n",
    "x"
   ]
  },
  {
   "cell_type": "code",
   "execution_count": 2,
   "id": "4452a4e4",
   "metadata": {},
   "outputs": [
    {
     "data": {
      "text/plain": [
       "list"
      ]
     },
     "execution_count": 2,
     "metadata": {},
     "output_type": "execute_result"
    }
   ],
   "source": [
    "type(x)"
   ]
  },
  {
   "cell_type": "code",
   "execution_count": 3,
   "id": "62152df4",
   "metadata": {},
   "outputs": [],
   "source": [
    "a,b,c = x"
   ]
  },
  {
   "cell_type": "code",
   "execution_count": 4,
   "id": "e818c182",
   "metadata": {},
   "outputs": [
    {
     "data": {
      "text/plain": [
       "(1, 2, 3)"
      ]
     },
     "execution_count": 4,
     "metadata": {},
     "output_type": "execute_result"
    }
   ],
   "source": [
    "a,b,c"
   ]
  },
  {
   "cell_type": "code",
   "execution_count": 5,
   "id": "f21aeb40",
   "metadata": {},
   "outputs": [
    {
     "data": {
      "text/plain": [
       "[11, 22, 33, 44, 55, 66]"
      ]
     },
     "execution_count": 5,
     "metadata": {},
     "output_type": "execute_result"
    }
   ],
   "source": [
    "y = [11,22,33,44,55,66]\n",
    "y"
   ]
  },
  {
   "cell_type": "code",
   "execution_count": 6,
   "id": "194991b2",
   "metadata": {},
   "outputs": [
    {
     "data": {
      "text/plain": [
       "33"
      ]
     },
     "execution_count": 6,
     "metadata": {},
     "output_type": "execute_result"
    }
   ],
   "source": [
    "y[2]"
   ]
  },
  {
   "cell_type": "code",
   "execution_count": 7,
   "id": "b74d176a",
   "metadata": {},
   "outputs": [
    {
     "data": {
      "text/plain": [
       "55"
      ]
     },
     "execution_count": 7,
     "metadata": {},
     "output_type": "execute_result"
    }
   ],
   "source": [
    "y[-2]"
   ]
  },
  {
   "cell_type": "code",
   "execution_count": 8,
   "id": "489be705",
   "metadata": {},
   "outputs": [
    {
     "data": {
      "text/plain": [
       "[44, 55]"
      ]
     },
     "execution_count": 8,
     "metadata": {},
     "output_type": "execute_result"
    }
   ],
   "source": [
    "y[3:5]"
   ]
  },
  {
   "cell_type": "code",
   "execution_count": 9,
   "id": "b8fab1dd",
   "metadata": {},
   "outputs": [
    {
     "data": {
      "text/plain": [
       "[11, 22, 33, 44, 55, 66]"
      ]
     },
     "execution_count": 9,
     "metadata": {},
     "output_type": "execute_result"
    }
   ],
   "source": [
    "y[0:6]"
   ]
  },
  {
   "cell_type": "code",
   "execution_count": 10,
   "id": "1c7c4729",
   "metadata": {},
   "outputs": [
    {
     "data": {
      "text/plain": [
       "[44, 55, 66]"
      ]
     },
     "execution_count": 10,
     "metadata": {},
     "output_type": "execute_result"
    }
   ],
   "source": [
    "y[-3:]"
   ]
  },
  {
   "cell_type": "code",
   "execution_count": 11,
   "id": "5e6245c5",
   "metadata": {},
   "outputs": [
    {
     "data": {
      "text/plain": [
       "[11, 33, 55]"
      ]
     },
     "execution_count": 11,
     "metadata": {},
     "output_type": "execute_result"
    }
   ],
   "source": [
    "y[::2]"
   ]
  },
  {
   "cell_type": "code",
   "execution_count": 13,
   "id": "e72b4904",
   "metadata": {},
   "outputs": [
    {
     "data": {
      "text/plain": [
       "[66, 55, 44, 33, 22, 11]"
      ]
     },
     "execution_count": 13,
     "metadata": {},
     "output_type": "execute_result"
    }
   ],
   "source": [
    "y[::-1]"
   ]
  },
  {
   "cell_type": "code",
   "execution_count": 32,
   "id": "3100a8a5",
   "metadata": {},
   "outputs": [
    {
     "name": "stdout",
     "output_type": "stream",
     "text": [
      "배열의 최대값을 구합니다.\n",
      "원소 수를 입력하세요. : 5\n",
      "x[0]값을 입력하세요. : 123\n",
      "x[1]값을 입력하세요. : 124\n",
      "x[2]값을 입력하세요. : 125\n",
      "x[3]값을 입력하세요. : 126\n",
      "x[4]값을 입력하세요. : 127\n",
      "최대값은 127입니다.\n"
     ]
    }
   ],
   "source": [
    "# 최대값 출력하기\n",
    "\n",
    "from typing import Any, Sequence\n",
    "\n",
    "def max_of(a: Sequence) -> Any:\n",
    "    maximum = a[0]\n",
    "    for i in range(1,len(a)):\n",
    "        if a[i] > maximum:\n",
    "            maximum = a[i]\n",
    "    return maximum\n",
    "    \n",
    "if __name__ == '__main__':\n",
    "    print(\"배열의 최대값을 구합니다.\")\n",
    "    \n",
    "    num = int(input('원소 수를 입력하세요. : '))\n",
    "    x = [None] * num #원소 수가 num인 리스트 생성\n",
    "    \n",
    "    for i in range(num):\n",
    "        x[i] = int(input(f'x[{i}]값을 입력하세요. : '))\n",
    "                         \n",
    "    print(f'최대값은 {max_of(x)}입니다.')"
   ]
  },
  {
   "cell_type": "code",
   "execution_count": null,
   "id": "6f5d30a9",
   "metadata": {},
   "outputs": [],
   "source": []
  }
 ],
 "metadata": {
  "kernelspec": {
   "display_name": "Python 3 (ipykernel)",
   "language": "python",
   "name": "python3"
  },
  "language_info": {
   "codemirror_mode": {
    "name": "ipython",
    "version": 3
   },
   "file_extension": ".py",
   "mimetype": "text/x-python",
   "name": "python",
   "nbconvert_exporter": "python",
   "pygments_lexer": "ipython3",
   "version": "3.9.7"
  }
 },
 "nbformat": 4,
 "nbformat_minor": 5
}
