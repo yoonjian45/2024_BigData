{
 "cells": [
  {
   "cell_type": "markdown",
   "id": "c145f3e0",
   "metadata": {},
   "source": [
    "## 30910_안윤지_0503_6"
   ]
  },
  {
   "cell_type": "markdown",
   "id": "800ace5e",
   "metadata": {},
   "source": [
    "본 문제는 python 의 빠른 기초 학습을 위해 설계된 문제로서 python 코드 제출을 기준으로 설명되어 있습니다. \n",
    "------\n",
    "\n",
    "정보 선생님은 수업을 시작하기 전에 이상한 출석을 부른다.\n",
    "\n",
    "선생님은 출석부를 보고 번호를 부르는데,\n",
    "학생들의 얼굴과 이름을 빨리 익히기 위해 번호를 무작위(랜덤)으로 부른다.\n",
    "\n",
    "그리고 얼굴과 이름이 잘 기억되지 않는 학생들은 번호를 여러 번 불러\n",
    "이름과 얼굴을 빨리 익히려고 하는 것이다.\n",
    "\n",
    "출석 번호를 n번 무작위로 불렀을 때, 각 번호(1 ~ 23)가 불린 횟수를 각각 출력해보자.\n",
    "\n",
    "예시\n",
    "n = int(input())      #개수를 입력받아 n에 정수로 저장\n",
    "a = input().split()  #공백을 기준으로 잘라 a에 순서대로 저장\n",
    "\n",
    "for i in range(n) :  #0부터 n-1까지...\n",
    "  a[i] = int(a[i])       #a에 순서대로 저장되어있는 각 값을 정수로 변환해 다시 저장\n",
    "\n",
    "d = []                     #d라는 이름의 빈 리스트 [ ] 변수를 만듦. 대괄호 기호 [  ] 를 사용한다.\n",
    "for i in range(24) :  #[0, 0, 0, ... , 0, 0, 0] 과 같이 24개의 정수 값 0을 추가해 넣음\n",
    "  d.append(0)        #각 값은 d[0], d[1], d[2], ... , d[22], d[23] 으로 값을 읽고 저장할 수 있음.\n",
    "\n",
    "for i in range(n) :    #번호를 부를 때마다, 그 번호에 대한 카운트 1씩 증가\n",
    "  d[a[i]] += 1\n",
    "\n",
    "for i in range(1, 24) :  #카운트한 값을 공백을 두고 출력\n",
    "  print(d[i], end=' ')\n",
    "\n",
    "참고\n",
    "- d = []              #어떤 데이터 목록(list) 을 순서대로 저장하기 위해 아무것도 없는 리스트 변수 만들기\n",
    "- d.append(값)  #d 리스트의 마지막에 원하는 값을 추가(append)해 넣음 \n",
    "- d[a[i]] += 1     #2중 리스트 참조 : 만약 a[i]의 값이 1이었다면? d[1] += 1 이 실행되는 것이다. 1번 카운트 1개 증가..\n",
    "\n",
    "어떤 값을 기록했다가 다시 사용할 필요가 있을 때, 필요한 변수(variable)를 만들어 사용하는 것처럼,\n",
    "여러 개의 값을 하나로 묶어 목록으로 기록했다가 다시 사용할 필요가 있을 때, 리스트(list)를 만들어 사용할 수 있다.\n",
    "리스트는 변수들을 모아 놓은 변수라고 생각할 수도 있고, 참조번호를 이용해 간단하고 편리하게 사용할 수 있다."
   ]
  },
  {
   "cell_type": "code",
   "execution_count": 3,
   "id": "41e14ade",
   "metadata": {
    "scrolled": true
   },
   "outputs": [
    {
     "name": "stdout",
     "output_type": "stream",
     "text": [
      "10\n",
      "1 3 2 2 5 6 7 4 5 9 \n",
      "1 2 1 1 2 1 1 0 1 0 0 0 0 0 0 0 0 0 0 0 0 0 0 "
     ]
    }
   ],
   "source": [
    "n = int(input())\n",
    "a = input().split()\n",
    "\n",
    "for i in range(n):\n",
    "    a[i] = int(a[i])\n",
    "    \n",
    "d = []\n",
    "for i in range(24):\n",
    "    d.append(0)\n",
    "    \n",
    "for i in range(n):\n",
    "    d[a[i]] += 1\n",
    "\n",
    "for i in range(1,24):\n",
    "    print(d[i],end = ' ')"
   ]
  },
  {
   "cell_type": "markdown",
   "id": "6ad94a9b",
   "metadata": {},
   "source": [
    "본 문제는 python 의 빠른 기초 학습을 위해 설계된 문제로서 python 코드 제출을 기준으로 설명되어 있습니다. \n",
    "------\n",
    "\n",
    "정보 선생님은 수업을 시작하기 전에 이상한 출석을 부른다.\n",
    "\n",
    "학생들의 얼굴과 이름을 빨리 익히기 위해 번호를 무작위(랜덤)으로 부르는데,\n",
    "영일이는 선생님이 부른 번호들을 기억하고 있다가 거꾸로 불러보는 것을 해보고 싶어졌다.\n",
    "\n",
    "출석 번호를 n번 무작위로 불렀을 때, 부른 번호를 거꾸로 출력해 보자.\n",
    "\n",
    "예시\n",
    "...\n",
    "for i in range(n-1, -1, -1) :\n",
    "  print(a[i], end=' ')\n",
    "...\n",
    "\n",
    "참고\n",
    "번호를 부른 순서를 리스트에 순서대로 기록해 두었다가, 기록한 값들을 거꾸로 출력하면 된다.\n",
    "range(시작, 끝, 증감) #시작 수는 포함, 끝 수는 포함하지 않음. [시작, 끝)\n",
    "range(n-1, -1, -1) #n-1, n-2, ..., 3, 2, 1, 0\n"
   ]
  },
  {
   "cell_type": "code",
   "execution_count": 4,
   "id": "7ee51a3c",
   "metadata": {},
   "outputs": [
    {
     "name": "stdout",
     "output_type": "stream",
     "text": [
      "10\n",
      "10 4 2 3 6 6 7 9 8 5\n",
      "5 8 9 7 6 6 3 2 4 10 "
     ]
    }
   ],
   "source": [
    "n = int(input())\n",
    "a = input().split()\n",
    "\n",
    "for i in range(n):\n",
    "    a[i] = int(a[i])\n",
    "    \n",
    "d = []\n",
    "for i in range(24):\n",
    "    d.append(0)\n",
    "    \n",
    "for i in range(n):\n",
    "    d[a[i]] += 1\n",
    "\n",
    "for i in range(n-1,-1,-1):\n",
    "    print(a[i],end = ' ')"
   ]
  },
  {
   "cell_type": "markdown",
   "id": "a36800e3",
   "metadata": {},
   "source": [
    "본 문제는 python 의 빠른 기초 학습을 위해 설계된 문제로서 python 코드 제출을 기준으로 설명되어 있습니다. \n",
    "------\n",
    "\n",
    "정보 선생님은 오늘도 이상한 출석을 부른다.\n",
    "\n",
    "영일이는 오늘도 다른 생각을 해보았다.\n",
    "출석 번호를 다 부르지는 않은 것 같은데... 가장 빠른 번호가 뭐였지?\n",
    "\n",
    "출석 번호를 n번 무작위로 불렀을 때, 가장 빠른 번호를 출력해 보자.\n",
    "\n",
    "단, \n",
    "첫 번째 번호와 마지막 번호가 몇 번인지는 아무도 모른다.\n",
    "음수(-) 번호, 0번 번호도 있을 수 있다.\n",
    "\n",
    "참고\n",
    "리스트에 출석 번호를 기록해 두었다가, 그 중에서 가장 작은 값을 찾아내면 된다.\n",
    "그런데, 가장 작은 값은 어떻게 어떤 것과 비교하고, 어떻게 찾아야 할까?\n"
   ]
  },
  {
   "cell_type": "code",
   "execution_count": 3,
   "id": "34b0d01c",
   "metadata": {},
   "outputs": [
    {
     "name": "stdout",
     "output_type": "stream",
     "text": [
      "10\n",
      "10 4 2 3 6 6 7 9 8 5 \n",
      "2\n"
     ]
    }
   ],
   "source": [
    "n = int(input())\n",
    "a = input().split()\n",
    "\n",
    "for i in range(n):\n",
    "    a[i] = int(a[i])\n",
    "    \n",
    "d = []\n",
    "for i in range(24):\n",
    "    d.append(0)\n",
    "\n",
    "for i in range(n):\n",
    "    d[a[i]] += 1\n",
    "    \n",
    "print(min(a))"
   ]
  }
 ],
 "metadata": {
  "kernelspec": {
   "display_name": "Python 3 (ipykernel)",
   "language": "python",
   "name": "python3"
  },
  "language_info": {
   "codemirror_mode": {
    "name": "ipython",
    "version": 3
   },
   "file_extension": ".py",
   "mimetype": "text/x-python",
   "name": "python",
   "nbconvert_exporter": "python",
   "pygments_lexer": "ipython3",
   "version": "3.9.7"
  }
 },
 "nbformat": 4,
 "nbformat_minor": 5
}
